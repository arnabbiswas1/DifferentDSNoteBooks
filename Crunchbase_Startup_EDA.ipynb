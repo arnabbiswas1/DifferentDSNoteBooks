{
 "cells": [
  {
   "cell_type": "code",
   "execution_count": 8,
   "metadata": {},
   "outputs": [],
   "source": [
    "# Import the necessary libaries\n",
    "\n",
    "import pandas as pd\n",
    "import numpy as np\n",
    "import matplotlib.pyplot as plt\n",
    "import matplotlib\n",
    "\n",
    "import ast\n",
    "\n",
    "from wordcloud import WordCloud\n",
    "\n",
    "matplotlib.style.use('ggplot')\n",
    "\n",
    "%matplotlib inline"
   ]
  },
  {
   "cell_type": "code",
   "execution_count": 9,
   "metadata": {},
   "outputs": [],
   "source": [
    "# Maximum number of columns to be printed\n",
    "pd.options.display.max_columns = 500\n",
    "# Maximum number of rows to be printed\n",
    "pd.options.display.max_rows = 500\n",
    "# Maximum width of a column while displaying\n",
    "pd.options.display.max_colwidth = 100"
   ]
  },
  {
   "cell_type": "markdown",
   "metadata": {},
   "source": [
    "##### Let's take a look into the raw CSV file to understand the physical format in which data is present in it"
   ]
  },
  {
   "cell_type": "code",
   "execution_count": 10,
   "metadata": {},
   "outputs": [
    {
     "name": "stdout",
     "output_type": "stream",
     "text": [
      ",name,founded_date,employee_count,description,location,categories,funding_data,investor_data\r\n",
      "0,Aujas Networks,2008,11 - 50,\"Aujas Networks Pvt. Ltd. offers information technology digital security solutions and services for enabling digital defense to clients. The company offers services in the areas of security vulnerability, security content management, and identity and access management. Its consulting services include preventive consulting, such as strategy consulting, enterprise risk, management, technology, consulting, and DR/BCP consulting; reactive consulting, including security postures, security audit, and recovery strategy; and detective consulting, such as incident response solutions. The companyâ€™s preventive implementation solutions comprise SCM/SAMIIAM, secure products, and compliance solutions. Its detective implementation solutions include application code review solutions. The companyâ€™s management solutions comprise preventive management, including enterprise risk, ODC security, and security operations; recovery services; and forensics services. It also offers education services, such as process, implementation, management, standards, technology, and application security services. The company provides specialized security services to technologies, including core wireless networks, VOIP, RFID, cyber forensics, and the risk management. It serves telecom, banking, financial services, insurance, enterprise, and government sectors. \r\n"
     ]
    }
   ],
   "source": [
    "# Let's take a look of the top of the file\n",
    "! head -2 crunchbase.csv"
   ]
  },
  {
   "cell_type": "code",
   "execution_count": 11,
   "metadata": {},
   "outputs": [
    {
     "name": "stdout",
     "output_type": "stream",
     "text": [
      "We bring to market very high quality products that are reliable and extremely simple to use.\r\n",
      "\",\"Bangalore, Karnataka\",\"Medical Device, Health Care, Medical\",\"[['Jan, 2016', 'undisclosed amount / Series B', '—', '—', '2']]\",\"[['Cipher Plexus', 'Series B', '-'], ['domestic HNIs', 'Series B', '-']]\"\r\n"
     ]
    }
   ],
   "source": [
    "# Let's take a look of the bottom of the file\n",
    "! tail -2 crunchbase.csv"
   ]
  },
  {
   "cell_type": "markdown",
   "metadata": {},
   "source": [
    "#### Taking a look of the head and tail of the file helps to understand if I need to skip lines at the beginning or at the end while loading data into DataFrame using pandas libraies"
   ]
  },
  {
   "cell_type": "code",
   "execution_count": 12,
   "metadata": {
    "scrolled": false
   },
   "outputs": [],
   "source": [
    "# Create a dataframe using a csv file. \n",
    "#\n",
    "# Since the file is not too big, set low_memory=False. That will\n",
    "# tell pandas to automatically detect the datatype of each column.\n",
    "#\n",
    "# Seperator should be comma as seen in the csv file\n",
    "df_raw = pd.read_csv('crunchbase.csv', sep=\",\", low_memory=False)"
   ]
  },
  {
   "cell_type": "code",
   "execution_count": 13,
   "metadata": {},
   "outputs": [
    {
     "name": "stdout",
     "output_type": "stream",
     "text": [
      "<class 'pandas.core.frame.DataFrame'>\n",
      "RangeIndex: 464 entries, 0 to 463\n",
      "Data columns (total 9 columns):\n",
      "Unnamed: 0        464 non-null int64\n",
      "name              464 non-null object\n",
      "founded_date      464 non-null object\n",
      "employee_count    464 non-null object\n",
      "description       456 non-null object\n",
      "location          452 non-null object\n",
      "categories        457 non-null object\n",
      "funding_data      412 non-null object\n",
      "investor_data     403 non-null object\n",
      "dtypes: int64(1), object(8)\n",
      "memory usage: 32.7+ KB\n"
     ]
    }
   ],
   "source": [
    "# Check the datatypes of different columns\n",
    "df_raw.info()"
   ]
  },
  {
   "cell_type": "code",
   "execution_count": 14,
   "metadata": {
    "scrolled": true
   },
   "outputs": [
    {
     "data": {
      "text/html": [
       "<div>\n",
       "<style scoped>\n",
       "    .dataframe tbody tr th:only-of-type {\n",
       "        vertical-align: middle;\n",
       "    }\n",
       "\n",
       "    .dataframe tbody tr th {\n",
       "        vertical-align: top;\n",
       "    }\n",
       "\n",
       "    .dataframe thead th {\n",
       "        text-align: right;\n",
       "    }\n",
       "</style>\n",
       "<table border=\"1\" class=\"dataframe\">\n",
       "  <thead>\n",
       "    <tr style=\"text-align: right;\">\n",
       "      <th></th>\n",
       "      <th>Unnamed: 0</th>\n",
       "      <th>name</th>\n",
       "      <th>founded_date</th>\n",
       "      <th>employee_count</th>\n",
       "      <th>description</th>\n",
       "      <th>location</th>\n",
       "      <th>categories</th>\n",
       "      <th>funding_data</th>\n",
       "      <th>investor_data</th>\n",
       "    </tr>\n",
       "  </thead>\n",
       "  <tbody>\n",
       "    <tr>\n",
       "      <th>0</th>\n",
       "      <td>0</td>\n",
       "      <td>Aujas Networks</td>\n",
       "      <td>2008</td>\n",
       "      <td>11 - 50</td>\n",
       "      <td>Aujas Networks Pvt. Ltd. offers information technology digital security solutions and services f...</td>\n",
       "      <td>Bangalore, Karnataka</td>\n",
       "      <td>Security, Cloud Security, Information Technology</td>\n",
       "      <td>[['Nov, 2013', '$5.4M / Series B', '—', 'IvyCap Ventures', '3'], ['Mar, 2011', '$2.6M / Series A...</td>\n",
       "      <td>[['IDG Ventures India', 'Series A', 'TC Meenakshisundaram', 'Series A', 'TC Meenakshisundaram', ...</td>\n",
       "    </tr>\n",
       "    <tr>\n",
       "      <th>1</th>\n",
       "      <td>0</td>\n",
       "      <td>CanvasFilp</td>\n",
       "      <td>August 1, 2014</td>\n",
       "      <td>11 - 50</td>\n",
       "      <td>CanvasFlip is fastest growing prototyping suite to create and validate your application design p...</td>\n",
       "      <td>Bangalore, Karnataka</td>\n",
       "      <td>Software</td>\n",
       "      <td>[['Sep, 2015', '$1.2M / Seed', '—', '—', '2']]</td>\n",
       "      <td>[['Bessemer Venture Partners', 'Seed', '-'], ['Microsoft Accelerator Bangalore', 'Seed', '-']]</td>\n",
       "    </tr>\n",
       "  </tbody>\n",
       "</table>\n",
       "</div>"
      ],
      "text/plain": [
       "   Unnamed: 0            name    founded_date employee_count  \\\n",
       "0           0  Aujas Networks            2008        11 - 50   \n",
       "1           0      CanvasFilp  August 1, 2014        11 - 50   \n",
       "\n",
       "                                                                                           description  \\\n",
       "0  Aujas Networks Pvt. Ltd. offers information technology digital security solutions and services f...   \n",
       "1  CanvasFlip is fastest growing prototyping suite to create and validate your application design p...   \n",
       "\n",
       "               location                                        categories  \\\n",
       "0  Bangalore, Karnataka  Security, Cloud Security, Information Technology   \n",
       "1  Bangalore, Karnataka                                          Software   \n",
       "\n",
       "                                                                                          funding_data  \\\n",
       "0  [['Nov, 2013', '$5.4M / Series B', '—', 'IvyCap Ventures', '3'], ['Mar, 2011', '$2.6M / Series A...   \n",
       "1                                                       [['Sep, 2015', '$1.2M / Seed', '—', '—', '2']]   \n",
       "\n",
       "                                                                                         investor_data  \n",
       "0  [['IDG Ventures India', 'Series A', 'TC Meenakshisundaram', 'Series A', 'TC Meenakshisundaram', ...  \n",
       "1       [['Bessemer Venture Partners', 'Seed', '-'], ['Microsoft Accelerator Bangalore', 'Seed', '-']]  "
      ]
     },
     "execution_count": 14,
     "metadata": {},
     "output_type": "execute_result"
    }
   ],
   "source": [
    "# Take a look of first few rows of the data\n",
    "df_raw.head(2)"
   ]
  },
  {
   "cell_type": "markdown",
   "metadata": {},
   "source": [
    "#### Although I am printing just 2 lines here, I have actually looked into 20 to 50 lines to understand if there is any visible issues with the data or not. Few observations:\n",
    "- There are 9 columns describing each startup\n",
    "- There is an \"Unnamed: 0\" Column at the begining with values as 0. It can be possibly removed.\n",
    "- One startup is associated with multiple categories.\n",
    "- The founded_date column has some extra text appended which needs to be cleaned up.\n",
    "- funding_data and investor_data looks like list of lists. Data needs to be extracted from there."
   ]
  },
  {
   "cell_type": "code",
   "execution_count": 15,
   "metadata": {},
   "outputs": [
    {
     "data": {
      "text/plain": [
       "(464, 9)"
      ]
     },
     "execution_count": 15,
     "metadata": {},
     "output_type": "execute_result"
    }
   ],
   "source": [
    "# Check the shape of the dataframe\n",
    "df_raw.shape"
   ]
  },
  {
   "cell_type": "markdown",
   "metadata": {},
   "source": [
    "#### There are 464 rows and 9 columns."
   ]
  },
  {
   "cell_type": "markdown",
   "metadata": {},
   "source": [
    "#### There is an Unnamed Column at the begining. That may be just because there is a comma to start with. I am going to check if all the rows for that column has value 0 or not. If yes, remove the column."
   ]
  },
  {
   "cell_type": "code",
   "execution_count": 16,
   "metadata": {},
   "outputs": [
    {
     "data": {
      "text/plain": [
       "0"
      ]
     },
     "execution_count": 16,
     "metadata": {},
     "output_type": "execute_result"
    }
   ],
   "source": [
    "# Check if all the elements of the column has value 0 only\n",
    "df_raw['Unnamed: 0'].sum()"
   ]
  },
  {
   "cell_type": "markdown",
   "metadata": {},
   "source": [
    "#### The Unnamed column consists of 0 values only. It's safe to remove the column."
   ]
  },
  {
   "cell_type": "code",
   "execution_count": 17,
   "metadata": {},
   "outputs": [],
   "source": [
    "# Drop the Unnamed column\n",
    "df_raw.drop(df_raw.columns[0], axis=1, inplace=True)"
   ]
  },
  {
   "cell_type": "code",
   "execution_count": 18,
   "metadata": {},
   "outputs": [
    {
     "data": {
      "text/plain": [
       "Index(['name', 'founded_date', 'employee_count', 'description', 'location',\n",
       "       'categories', 'funding_data', 'investor_data'],\n",
       "      dtype='object')"
      ]
     },
     "execution_count": 18,
     "metadata": {},
     "output_type": "execute_result"
    }
   ],
   "source": [
    "# Check the column names\n",
    "df_raw.columns"
   ]
  },
  {
   "cell_type": "markdown",
   "metadata": {},
   "source": [
    "#### At this point, for each startup, we have following information: \n",
    "- Name\n",
    "- Date on which it is founded date \n",
    "- Number of employees \n",
    "- Decsription \n",
    "- Geographical location of the startup\n",
    "- Categories to which the start up can be tagged with \n",
    "- Funding data \n",
    "- Investor data"
   ]
  },
  {
   "cell_type": "markdown",
   "metadata": {},
   "source": [
    "## What I am going to do here\n",
    "1. Check for duplicate rows\n",
    "\n",
    "2. Check for missing values\n",
    "\n",
    "3. Clean and explore the data\n",
    "\n",
    "    3.1 founding_date\n",
    "    \n",
    "    3.2 location\n",
    "    \n",
    "    3.3 funding_data\n",
    "    \n",
    "    3.4 investor_data\n",
    "    \n",
    "4. Understand the outliers\n",
    "\n",
    "    4.1 Outliers from India\n",
    "    \n",
    "    4.2 Outliers from Outside India\n",
    "    \n",
    "    4.3 Compare those"
   ]
  },
  {
   "cell_type": "markdown",
   "metadata": {},
   "source": [
    "## 1. Check for duplicate rows"
   ]
  },
  {
   "cell_type": "code",
   "execution_count": 19,
   "metadata": {},
   "outputs": [
    {
     "data": {
      "text/html": [
       "<div>\n",
       "<style scoped>\n",
       "    .dataframe tbody tr th:only-of-type {\n",
       "        vertical-align: middle;\n",
       "    }\n",
       "\n",
       "    .dataframe tbody tr th {\n",
       "        vertical-align: top;\n",
       "    }\n",
       "\n",
       "    .dataframe thead th {\n",
       "        text-align: right;\n",
       "    }\n",
       "</style>\n",
       "<table border=\"1\" class=\"dataframe\">\n",
       "  <thead>\n",
       "    <tr style=\"text-align: right;\">\n",
       "      <th></th>\n",
       "      <th>name</th>\n",
       "      <th>founded_date</th>\n",
       "      <th>employee_count</th>\n",
       "      <th>description</th>\n",
       "      <th>location</th>\n",
       "      <th>categories</th>\n",
       "      <th>funding_data</th>\n",
       "      <th>investor_data</th>\n",
       "    </tr>\n",
       "  </thead>\n",
       "  <tbody>\n",
       "    <tr>\n",
       "      <th>62</th>\n",
       "      <td>99Games Online Private Limited</td>\n",
       "      <td>2008</td>\n",
       "      <td>11 - 50</td>\n",
       "      <td>Putting casual games right in your pocket, 99Games has been a pioneer in creating fun, easy-to-l...</td>\n",
       "      <td>Udupi, Karnataka</td>\n",
       "      <td>Android, Developer Platform, Video Games</td>\n",
       "      <td>[['Jan, 2017', 'undisclosed amount / Venture', '—', 'Dream Incubator', '3'], ['Apr, 2015', 'undi...</td>\n",
       "      <td>[['Ascent Capital', 'Series B\\xa0(Lead)', '-', 'Venture', '-'], ['Dream Incubator', 'Venture\\xa0...</td>\n",
       "    </tr>\n",
       "    <tr>\n",
       "      <th>237</th>\n",
       "      <td>99Games Online Private Limited</td>\n",
       "      <td>2008</td>\n",
       "      <td>11 - 50</td>\n",
       "      <td>Putting casual games right in your pocket, 99Games has been a pioneer in creating fun, easy-to-l...</td>\n",
       "      <td>Udupi, Karnataka</td>\n",
       "      <td>Android, Developer Platform, Video Games</td>\n",
       "      <td>[['Jan, 2017', 'undisclosed amount / Venture', '—', 'Dream Incubator', '3'], ['Apr, 2015', 'undi...</td>\n",
       "      <td>[['Ascent Capital', 'Series B\\xa0(Lead)', '-', 'Venture', '-'], ['Dream Incubator', 'Venture\\xa0...</td>\n",
       "    </tr>\n",
       "    <tr>\n",
       "      <th>293</th>\n",
       "      <td>BHIVE WORKSPACE</td>\n",
       "      <td>October 15, 2014</td>\n",
       "      <td>11 - 50</td>\n",
       "      <td>BHIVE Workspace prides in being the largest CoWorking spaces in Bangalore, India’s startup capit...</td>\n",
       "      <td>Bangalore</td>\n",
       "      <td>Collaboration, Coworking, Real Estate</td>\n",
       "      <td>[['Jun, 2017', '$1.2M / Seed', '—', 'Blume Ventures', '3'], ['May, 2016', '$1M / Seed', '—', 'Bl...</td>\n",
       "      <td>[['Arihant Patni', 'Angel', '-'], ['Arun Narayanan', 'Angel', '-'], ['Blume Ventures', 'Seed\\xa0...</td>\n",
       "    </tr>\n",
       "    <tr>\n",
       "      <th>292</th>\n",
       "      <td>BHIVE WORKSPACE</td>\n",
       "      <td>October 15, 2014</td>\n",
       "      <td>11 - 50</td>\n",
       "      <td>BHIVE Workspace prides in being the largest CoWorking spaces in Bangalore, India’s startup capit...</td>\n",
       "      <td>Bangalore</td>\n",
       "      <td>Collaboration, Coworking, Real Estate</td>\n",
       "      <td>[['Jun, 2017', '$1.2M / Seed', '—', 'Blume Ventures', '3'], ['May, 2016', '$1M / Seed', '—', 'Bl...</td>\n",
       "      <td>[['Arihant Patni', 'Angel', '-'], ['Arun Narayanan', 'Angel', '-'], ['Blume Ventures', 'Seed\\xa0...</td>\n",
       "    </tr>\n",
       "    <tr>\n",
       "      <th>59</th>\n",
       "      <td>Embibe</td>\n",
       "      <td>2012</td>\n",
       "      <td>11 - 50</td>\n",
       "      <td>Embibe provides educational services for students. It helps students develop their educational s...</td>\n",
       "      <td>Mumbai</td>\n",
       "      <td>Education, Tutoring</td>\n",
       "      <td>[['May, 2014', '$4M / Venture', '—', '—', '2']]</td>\n",
       "      <td>[['Kalaari Capital', 'Venture', '-'], ['Lightbox', 'Venture', '-']]</td>\n",
       "    </tr>\n",
       "  </tbody>\n",
       "</table>\n",
       "</div>"
      ],
      "text/plain": [
       "                               name      founded_date employee_count  \\\n",
       "62   99Games Online Private Limited              2008        11 - 50   \n",
       "237  99Games Online Private Limited              2008        11 - 50   \n",
       "293                 BHIVE WORKSPACE  October 15, 2014        11 - 50   \n",
       "292                 BHIVE WORKSPACE  October 15, 2014        11 - 50   \n",
       "59                           Embibe              2012        11 - 50   \n",
       "\n",
       "                                                                                             description  \\\n",
       "62   Putting casual games right in your pocket, 99Games has been a pioneer in creating fun, easy-to-l...   \n",
       "237  Putting casual games right in your pocket, 99Games has been a pioneer in creating fun, easy-to-l...   \n",
       "293  BHIVE Workspace prides in being the largest CoWorking spaces in Bangalore, India’s startup capit...   \n",
       "292  BHIVE Workspace prides in being the largest CoWorking spaces in Bangalore, India’s startup capit...   \n",
       "59   Embibe provides educational services for students. It helps students develop their educational s...   \n",
       "\n",
       "             location                                categories  \\\n",
       "62   Udupi, Karnataka  Android, Developer Platform, Video Games   \n",
       "237  Udupi, Karnataka  Android, Developer Platform, Video Games   \n",
       "293         Bangalore     Collaboration, Coworking, Real Estate   \n",
       "292         Bangalore     Collaboration, Coworking, Real Estate   \n",
       "59             Mumbai                       Education, Tutoring   \n",
       "\n",
       "                                                                                            funding_data  \\\n",
       "62   [['Jan, 2017', 'undisclosed amount / Venture', '—', 'Dream Incubator', '3'], ['Apr, 2015', 'undi...   \n",
       "237  [['Jan, 2017', 'undisclosed amount / Venture', '—', 'Dream Incubator', '3'], ['Apr, 2015', 'undi...   \n",
       "293  [['Jun, 2017', '$1.2M / Seed', '—', 'Blume Ventures', '3'], ['May, 2016', '$1M / Seed', '—', 'Bl...   \n",
       "292  [['Jun, 2017', '$1.2M / Seed', '—', 'Blume Ventures', '3'], ['May, 2016', '$1M / Seed', '—', 'Bl...   \n",
       "59                                                       [['May, 2014', '$4M / Venture', '—', '—', '2']]   \n",
       "\n",
       "                                                                                           investor_data  \n",
       "62   [['Ascent Capital', 'Series B\\xa0(Lead)', '-', 'Venture', '-'], ['Dream Incubator', 'Venture\\xa0...  \n",
       "237  [['Ascent Capital', 'Series B\\xa0(Lead)', '-', 'Venture', '-'], ['Dream Incubator', 'Venture\\xa0...  \n",
       "293  [['Arihant Patni', 'Angel', '-'], ['Arun Narayanan', 'Angel', '-'], ['Blume Ventures', 'Seed\\xa0...  \n",
       "292  [['Arihant Patni', 'Angel', '-'], ['Arun Narayanan', 'Angel', '-'], ['Blume Ventures', 'Seed\\xa0...  \n",
       "59                                   [['Kalaari Capital', 'Venture', '-'], ['Lightbox', 'Venture', '-']]  "
      ]
     },
     "execution_count": 19,
     "metadata": {},
     "output_type": "execute_result"
    }
   ],
   "source": [
    "# Check for duplicate rows\n",
    "#\n",
    "# Sort the resulting dataframe based on name for easy inspection\n",
    "#\n",
    "# Take a look of the duplicates as well as orginals\n",
    "df_raw[df_raw.duplicated(keep=False)].sort_values(by='name').head()"
   ]
  },
  {
   "cell_type": "markdown",
   "metadata": {},
   "source": [
    "#### Visual inspection confirms that duplicate rows are matching with each other on the basis of all the features/columns. Hence it's safe to drop the duplicates."
   ]
  },
  {
   "cell_type": "code",
   "execution_count": 20,
   "metadata": {},
   "outputs": [
    {
     "data": {
      "text/plain": [
       "9"
      ]
     },
     "execution_count": 20,
     "metadata": {},
     "output_type": "execute_result"
    }
   ],
   "source": [
    "# How many duplicates are there?\n",
    "df_raw[df_raw.duplicated()].sort_values(by='name').shape[0]"
   ]
  },
  {
   "cell_type": "code",
   "execution_count": 21,
   "metadata": {},
   "outputs": [],
   "source": [
    "# Keep the first row and drop the rest of duplicate rows \n",
    "df_raw.drop_duplicates(keep='first', inplace=True)\n",
    "\n",
    "# Multiple rows have been removed. Hence, reset the index of the dataframe\n",
    "df_raw.reset_index(drop=True, inplace=True)"
   ]
  },
  {
   "cell_type": "markdown",
   "metadata": {},
   "source": [
    "## 2. Check for missing values"
   ]
  },
  {
   "cell_type": "code",
   "execution_count": 22,
   "metadata": {},
   "outputs": [
    {
     "data": {
      "text/plain": [
       "name               0\n",
       "founded_date       0\n",
       "employee_count     0\n",
       "description        8\n",
       "location          12\n",
       "categories         7\n",
       "funding_data      52\n",
       "investor_data     61\n",
       "dtype: int64"
      ]
     },
     "execution_count": 22,
     "metadata": {},
     "output_type": "execute_result"
    }
   ],
   "source": [
    "# Check for missing values\n",
    "df_raw.isnull().sum()"
   ]
  },
  {
   "cell_type": "markdown",
   "metadata": {},
   "source": [
    "#### There are missing values for description, location, categories, funding_data and investor_data"
   ]
  },
  {
   "cell_type": "markdown",
   "metadata": {},
   "source": [
    "#### Let's check the rows for which description, location, categories, funding_data and investor_data are null. If there is any such row, we can drop that row."
   ]
  },
  {
   "cell_type": "code",
   "execution_count": 23,
   "metadata": {},
   "outputs": [
    {
     "data": {
      "text/html": [
       "<div>\n",
       "<style scoped>\n",
       "    .dataframe tbody tr th:only-of-type {\n",
       "        vertical-align: middle;\n",
       "    }\n",
       "\n",
       "    .dataframe tbody tr th {\n",
       "        vertical-align: top;\n",
       "    }\n",
       "\n",
       "    .dataframe thead th {\n",
       "        text-align: right;\n",
       "    }\n",
       "</style>\n",
       "<table border=\"1\" class=\"dataframe\">\n",
       "  <thead>\n",
       "    <tr style=\"text-align: right;\">\n",
       "      <th></th>\n",
       "      <th>name</th>\n",
       "      <th>founded_date</th>\n",
       "      <th>employee_count</th>\n",
       "      <th>description</th>\n",
       "      <th>location</th>\n",
       "      <th>categories</th>\n",
       "      <th>funding_data</th>\n",
       "      <th>investor_data</th>\n",
       "    </tr>\n",
       "  </thead>\n",
       "  <tbody>\n",
       "    <tr>\n",
       "      <th>88</th>\n",
       "      <td>LeanTrack: Community for Student Startups</td>\n",
       "      <td>Unknown</td>\n",
       "      <td>11 - 50</td>\n",
       "      <td>NaN</td>\n",
       "      <td>NaN</td>\n",
       "      <td>NaN</td>\n",
       "      <td>NaN</td>\n",
       "      <td>NaN</td>\n",
       "    </tr>\n",
       "  </tbody>\n",
       "</table>\n",
       "</div>"
      ],
      "text/plain": [
       "                                         name founded_date employee_count  \\\n",
       "88  LeanTrack: Community for Student Startups      Unknown        11 - 50   \n",
       "\n",
       "   description location categories funding_data investor_data  \n",
       "88         NaN      NaN        NaN          NaN           NaN  "
      ]
     },
     "execution_count": 23,
     "metadata": {},
     "output_type": "execute_result"
    }
   ],
   "source": [
    "df_raw[df_raw.funding_data.isnull() \n",
    "       & df_raw.investor_data.isnull() \n",
    "       & df_raw.location.isnull() \n",
    "       & df_raw.description.isnull()\n",
    "       & df_raw.categories.isnull()]"
   ]
  },
  {
   "cell_type": "markdown",
   "metadata": {},
   "source": [
    "#### There is one such row, it can be safely dropped"
   ]
  },
  {
   "cell_type": "code",
   "execution_count": 24,
   "metadata": {},
   "outputs": [],
   "source": [
    "df_raw = df_raw[~(df_raw.funding_data.isnull() \n",
    "       & df_raw.investor_data.isnull() \n",
    "       & df_raw.location.isnull() \n",
    "       & df_raw.description.isnull()\n",
    "       & df_raw.categories.isnull())]"
   ]
  },
  {
   "cell_type": "code",
   "execution_count": 25,
   "metadata": {},
   "outputs": [
    {
     "data": {
      "text/html": [
       "<div>\n",
       "<style scoped>\n",
       "    .dataframe tbody tr th:only-of-type {\n",
       "        vertical-align: middle;\n",
       "    }\n",
       "\n",
       "    .dataframe tbody tr th {\n",
       "        vertical-align: top;\n",
       "    }\n",
       "\n",
       "    .dataframe thead th {\n",
       "        text-align: right;\n",
       "    }\n",
       "</style>\n",
       "<table border=\"1\" class=\"dataframe\">\n",
       "  <thead>\n",
       "    <tr style=\"text-align: right;\">\n",
       "      <th></th>\n",
       "      <th>name</th>\n",
       "      <th>founded_date</th>\n",
       "      <th>employee_count</th>\n",
       "      <th>description</th>\n",
       "      <th>location</th>\n",
       "      <th>categories</th>\n",
       "      <th>funding_data</th>\n",
       "      <th>investor_data</th>\n",
       "    </tr>\n",
       "  </thead>\n",
       "  <tbody>\n",
       "    <tr>\n",
       "      <th>53</th>\n",
       "      <td>Recipe Book</td>\n",
       "      <td>June 1, 2015Aliases:Recipe Book# of</td>\n",
       "      <td>11 - 50</td>\n",
       "      <td>Recipe Book is the popular intelligent Cooking App on Android Play store.With Recipe Book, we ar...</td>\n",
       "      <td>NaN</td>\n",
       "      <td>NaN</td>\n",
       "      <td>NaN</td>\n",
       "      <td>NaN</td>\n",
       "    </tr>\n",
       "  </tbody>\n",
       "</table>\n",
       "</div>"
      ],
      "text/plain": [
       "           name                          founded_date employee_count  \\\n",
       "53  Recipe Book  June 1, 2015Aliases:Recipe Book# of         11 - 50   \n",
       "\n",
       "                                                                                            description  \\\n",
       "53  Recipe Book is the popular intelligent Cooking App on Android Play store.With Recipe Book, we ar...   \n",
       "\n",
       "   location categories funding_data investor_data  \n",
       "53      NaN        NaN          NaN           NaN  "
      ]
     },
     "execution_count": 25,
     "metadata": {},
     "output_type": "execute_result"
    }
   ],
   "source": [
    "# Let's check the rows for which location, categories, funding_data and investor_data are null.\n",
    "# If there is any we can drop that row.\n",
    "df_raw[df_raw.funding_data.isnull() \n",
    "       & df_raw.investor_data.isnull() \n",
    "       & df_raw.location.isnull() \n",
    "       & df_raw.categories.isnull()]"
   ]
  },
  {
   "cell_type": "markdown",
   "metadata": {},
   "source": [
    "#### There is one such row, we may drop that as well as it is not carrying any valuable information."
   ]
  },
  {
   "cell_type": "code",
   "execution_count": 26,
   "metadata": {},
   "outputs": [],
   "source": [
    "df_raw = df_raw[~(df_raw.funding_data.isnull() \n",
    "           & df_raw.investor_data.isnull() \n",
    "           & df_raw.location.isnull() \n",
    "           & df_raw.categories.isnull())]"
   ]
  },
  {
   "cell_type": "code",
   "execution_count": 27,
   "metadata": {},
   "outputs": [
    {
     "data": {
      "text/html": [
       "<div>\n",
       "<style scoped>\n",
       "    .dataframe tbody tr th:only-of-type {\n",
       "        vertical-align: middle;\n",
       "    }\n",
       "\n",
       "    .dataframe tbody tr th {\n",
       "        vertical-align: top;\n",
       "    }\n",
       "\n",
       "    .dataframe thead th {\n",
       "        text-align: right;\n",
       "    }\n",
       "</style>\n",
       "<table border=\"1\" class=\"dataframe\">\n",
       "  <thead>\n",
       "    <tr style=\"text-align: right;\">\n",
       "      <th></th>\n",
       "      <th>name</th>\n",
       "      <th>founded_date</th>\n",
       "      <th>employee_count</th>\n",
       "      <th>description</th>\n",
       "      <th>location</th>\n",
       "      <th>categories</th>\n",
       "      <th>funding_data</th>\n",
       "      <th>investor_data</th>\n",
       "    </tr>\n",
       "  </thead>\n",
       "  <tbody>\n",
       "    <tr>\n",
       "      <th>2</th>\n",
       "      <td>Canvazify</td>\n",
       "      <td>January 13, 2014</td>\n",
       "      <td>11 - 50</td>\n",
       "      <td>NaN</td>\n",
       "      <td>Pune, Maharashtra</td>\n",
       "      <td>NaN</td>\n",
       "      <td>NaN</td>\n",
       "      <td>NaN</td>\n",
       "    </tr>\n",
       "    <tr>\n",
       "      <th>270</th>\n",
       "      <td>Wowflux Labs</td>\n",
       "      <td>2015</td>\n",
       "      <td>11 - 50</td>\n",
       "      <td>Wowflux Labs is a manufacture professional product photography solutions that allow anyone to ca...</td>\n",
       "      <td>New Delhi, Delhi</td>\n",
       "      <td>NaN</td>\n",
       "      <td>[['May, 2017', 'undisclosed amount / Venture', '—', '—', '0']]</td>\n",
       "      <td>NaN</td>\n",
       "    </tr>\n",
       "    <tr>\n",
       "      <th>286</th>\n",
       "      <td>Hullo, Inc.</td>\n",
       "      <td>November, 2015</td>\n",
       "      <td>11 - 50</td>\n",
       "      <td>Hullo offers TinCan, an application that enables its users to send voice massages to people in t...</td>\n",
       "      <td>San Francisco, California</td>\n",
       "      <td>NaN</td>\n",
       "      <td>[['Dec, 2015', 'undisclosed amount / Convertible Note', '—', '—', '4']]</td>\n",
       "      <td>[['Arihant Patni', 'Convertible Note', '-'], ['Manish Singh', 'Convertible Note', '-'], ['Sudip ...</td>\n",
       "    </tr>\n",
       "    <tr>\n",
       "      <th>325</th>\n",
       "      <td>Applancer.co</td>\n",
       "      <td>December 16, 2016</td>\n",
       "      <td>11 - 50</td>\n",
       "      <td>What does it do?\\nApplancer is a app developer community which helps project owners find certifi...</td>\n",
       "      <td>Chandigarh, Chandigarh</td>\n",
       "      <td>NaN</td>\n",
       "      <td>[['Dec, 2016', '$50k / Seed', '—', '—', '1']]</td>\n",
       "      <td>[['Sahil Kohli', 'Seed', '-']]</td>\n",
       "    </tr>\n",
       "    <tr>\n",
       "      <th>400</th>\n",
       "      <td>RankJunction</td>\n",
       "      <td>Unknown</td>\n",
       "      <td>11 - 50</td>\n",
       "      <td>NaN</td>\n",
       "      <td>Nagpur, Maharashtra</td>\n",
       "      <td>NaN</td>\n",
       "      <td>[['Jan, 2014', '$185.29k / Angel', '—', '—', '1']]</td>\n",
       "      <td>[['Artha India Ventures', 'Angel', 'Anirudh Damani']]</td>\n",
       "    </tr>\n",
       "  </tbody>\n",
       "</table>\n",
       "</div>"
      ],
      "text/plain": [
       "             name       founded_date employee_count  \\\n",
       "2       Canvazify   January 13, 2014        11 - 50   \n",
       "270  Wowflux Labs               2015        11 - 50   \n",
       "286   Hullo, Inc.     November, 2015        11 - 50   \n",
       "325  Applancer.co  December 16, 2016        11 - 50   \n",
       "400  RankJunction            Unknown        11 - 50   \n",
       "\n",
       "                                                                                             description  \\\n",
       "2                                                                                                    NaN   \n",
       "270  Wowflux Labs is a manufacture professional product photography solutions that allow anyone to ca...   \n",
       "286  Hullo offers TinCan, an application that enables its users to send voice massages to people in t...   \n",
       "325  What does it do?\\nApplancer is a app developer community which helps project owners find certifi...   \n",
       "400                                                                                                  NaN   \n",
       "\n",
       "                      location categories  \\\n",
       "2            Pune, Maharashtra        NaN   \n",
       "270           New Delhi, Delhi        NaN   \n",
       "286  San Francisco, California        NaN   \n",
       "325     Chandigarh, Chandigarh        NaN   \n",
       "400        Nagpur, Maharashtra        NaN   \n",
       "\n",
       "                                                                funding_data  \\\n",
       "2                                                                        NaN   \n",
       "270           [['May, 2017', 'undisclosed amount / Venture', '—', '—', '0']]   \n",
       "286  [['Dec, 2015', 'undisclosed amount / Convertible Note', '—', '—', '4']]   \n",
       "325                            [['Dec, 2016', '$50k / Seed', '—', '—', '1']]   \n",
       "400                       [['Jan, 2014', '$185.29k / Angel', '—', '—', '1']]   \n",
       "\n",
       "                                                                                           investor_data  \n",
       "2                                                                                                    NaN  \n",
       "270                                                                                                  NaN  \n",
       "286  [['Arihant Patni', 'Convertible Note', '-'], ['Manish Singh', 'Convertible Note', '-'], ['Sudip ...  \n",
       "325                                                                       [['Sahil Kohli', 'Seed', '-']]  \n",
       "400                                                [['Artha India Ventures', 'Angel', 'Anirudh Damani']]  "
      ]
     },
     "execution_count": 27,
     "metadata": {},
     "output_type": "execute_result"
    }
   ],
   "source": [
    "# Check for the startups for which categories is unknown\n",
    "df_raw[df_raw.categories.isnull()]"
   ]
  },
  {
   "cell_type": "markdown",
   "metadata": {},
   "source": [
    "#### Check for the startups for which funding data is unknown."
   ]
  },
  {
   "cell_type": "code",
   "execution_count": 28,
   "metadata": {
    "scrolled": true
   },
   "outputs": [
    {
     "data": {
      "text/plain": [
       "50"
      ]
     },
     "execution_count": 28,
     "metadata": {},
     "output_type": "execute_result"
    }
   ],
   "source": [
    "#Check for the startups for which funding data is unknown.\n",
    "df_raw[df_raw.funding_data.isnull()].shape[0]"
   ]
  },
  {
   "cell_type": "markdown",
   "metadata": {},
   "source": [
    "A quick look at the crunchbase website shows that missing funding information does not mean that the startup never received funding. For example, DronaHQ received funding, but in the current dataset DronaHQ does not have funding information."
   ]
  },
  {
   "cell_type": "code",
   "execution_count": 29,
   "metadata": {},
   "outputs": [
    {
     "data": {
      "text/html": [
       "<div>\n",
       "<style scoped>\n",
       "    .dataframe tbody tr th:only-of-type {\n",
       "        vertical-align: middle;\n",
       "    }\n",
       "\n",
       "    .dataframe tbody tr th {\n",
       "        vertical-align: top;\n",
       "    }\n",
       "\n",
       "    .dataframe thead th {\n",
       "        text-align: right;\n",
       "    }\n",
       "</style>\n",
       "<table border=\"1\" class=\"dataframe\">\n",
       "  <thead>\n",
       "    <tr style=\"text-align: right;\">\n",
       "      <th></th>\n",
       "      <th>name</th>\n",
       "      <th>founded_date</th>\n",
       "      <th>employee_count</th>\n",
       "      <th>description</th>\n",
       "      <th>location</th>\n",
       "      <th>categories</th>\n",
       "      <th>funding_data</th>\n",
       "      <th>investor_data</th>\n",
       "    </tr>\n",
       "  </thead>\n",
       "  <tbody>\n",
       "    <tr>\n",
       "      <th>4</th>\n",
       "      <td>DronaHQ</td>\n",
       "      <td>February 7, 2007Aliases:Deltecs Infotech Pvt Ltd</td>\n",
       "      <td>11 - 50</td>\n",
       "      <td>The gift of knowledge, of learning is a gift greater than any other. For man, wisdom and underst...</td>\n",
       "      <td>Mumbai, Maharashtra</td>\n",
       "      <td>Mobile</td>\n",
       "      <td>NaN</td>\n",
       "      <td>NaN</td>\n",
       "    </tr>\n",
       "  </tbody>\n",
       "</table>\n",
       "</div>"
      ],
      "text/plain": [
       "      name                                      founded_date employee_count  \\\n",
       "4  DronaHQ  February 7, 2007Aliases:Deltecs Infotech Pvt Ltd        11 - 50   \n",
       "\n",
       "                                                                                           description  \\\n",
       "4  The gift of knowledge, of learning is a gift greater than any other. For man, wisdom and underst...   \n",
       "\n",
       "              location categories funding_data investor_data  \n",
       "4  Mumbai, Maharashtra     Mobile          NaN           NaN  "
      ]
     },
     "execution_count": 29,
     "metadata": {},
     "output_type": "execute_result"
    }
   ],
   "source": [
    "df_raw[df_raw['name'] == \"DronaHQ\"]"
   ]
  },
  {
   "cell_type": "code",
   "execution_count": 30,
   "metadata": {},
   "outputs": [
    {
     "data": {
      "text/plain": [
       "50"
      ]
     },
     "execution_count": 30,
     "metadata": {},
     "output_type": "execute_result"
    }
   ],
   "source": [
    "# Startups for which funding as well as investor data is missing\n",
    "df_raw[df_raw.funding_data.isnull() & df_raw.investor_data.isnull()].shape[0]"
   ]
  },
  {
   "cell_type": "code",
   "execution_count": 31,
   "metadata": {
    "scrolled": true
   },
   "outputs": [
    {
     "data": {
      "text/html": [
       "<div>\n",
       "<style scoped>\n",
       "    .dataframe tbody tr th:only-of-type {\n",
       "        vertical-align: middle;\n",
       "    }\n",
       "\n",
       "    .dataframe tbody tr th {\n",
       "        vertical-align: top;\n",
       "    }\n",
       "\n",
       "    .dataframe thead th {\n",
       "        text-align: right;\n",
       "    }\n",
       "</style>\n",
       "<table border=\"1\" class=\"dataframe\">\n",
       "  <thead>\n",
       "    <tr style=\"text-align: right;\">\n",
       "      <th></th>\n",
       "      <th>name</th>\n",
       "      <th>founded_date</th>\n",
       "      <th>employee_count</th>\n",
       "      <th>description</th>\n",
       "      <th>location</th>\n",
       "      <th>categories</th>\n",
       "      <th>funding_data</th>\n",
       "      <th>investor_data</th>\n",
       "    </tr>\n",
       "  </thead>\n",
       "  <tbody>\n",
       "    <tr>\n",
       "      <th>13</th>\n",
       "      <td>igrenEnergi</td>\n",
       "      <td>2013</td>\n",
       "      <td>11 - 50</td>\n",
       "      <td>igrenEnergi profiled in Economic Times - igrenEnergi's 'packetization technology' boosts solar p...</td>\n",
       "      <td>Bangalore, Karnataka</td>\n",
       "      <td>Energy Storage, Energy Management, Solar</td>\n",
       "      <td>[['Feb, 2016', 'undisclosed amount / Venture', '—', '—', '0']]</td>\n",
       "      <td>NaN</td>\n",
       "    </tr>\n",
       "    <tr>\n",
       "      <th>172</th>\n",
       "      <td>Affine Analytics</td>\n",
       "      <td>February 15, 2011</td>\n",
       "      <td>11 - 50</td>\n",
       "      <td>Affine is a provider of high-end analytics services to solve complex business problems with offi...</td>\n",
       "      <td>Bangalore</td>\n",
       "      <td>Analytics, Big Data</td>\n",
       "      <td>[['Jan, 2012', '$100k / Angel', '—', '—', '0']]</td>\n",
       "      <td>NaN</td>\n",
       "    </tr>\n",
       "    <tr>\n",
       "      <th>190</th>\n",
       "      <td>Mojarto</td>\n",
       "      <td>2005</td>\n",
       "      <td>11 - 50</td>\n",
       "      <td>Mojarto is looking for partnerships and inputs from everyone in the art industry. We believe tha...</td>\n",
       "      <td>Haryana, Haryana</td>\n",
       "      <td>Art</td>\n",
       "      <td>[['Aug, 2016', '$445k / Seed', '—', '—', '0']]</td>\n",
       "      <td>NaN</td>\n",
       "    </tr>\n",
       "    <tr>\n",
       "      <th>270</th>\n",
       "      <td>Wowflux Labs</td>\n",
       "      <td>2015</td>\n",
       "      <td>11 - 50</td>\n",
       "      <td>Wowflux Labs is a manufacture professional product photography solutions that allow anyone to ca...</td>\n",
       "      <td>New Delhi, Delhi</td>\n",
       "      <td>NaN</td>\n",
       "      <td>[['May, 2017', 'undisclosed amount / Venture', '—', '—', '0']]</td>\n",
       "      <td>NaN</td>\n",
       "    </tr>\n",
       "    <tr>\n",
       "      <th>299</th>\n",
       "      <td>FleetRover</td>\n",
       "      <td>2015</td>\n",
       "      <td>11 - 50</td>\n",
       "      <td>FleetRover delivers uncluttered insights into fleet movement, position, behaviour and health.Thr...</td>\n",
       "      <td>London, England</td>\n",
       "      <td>Analytics, Big Data</td>\n",
       "      <td>[['May, 2015', '$1.8M / Seed', '—', '—', '0']]</td>\n",
       "      <td>NaN</td>\n",
       "    </tr>\n",
       "    <tr>\n",
       "      <th>377</th>\n",
       "      <td>Multistory Learning</td>\n",
       "      <td>2011</td>\n",
       "      <td>11 - 50</td>\n",
       "      <td>Multistory Learning Ltd, a Chennai, India-based education startup. Led by CEO Naresh R and Amrut...</td>\n",
       "      <td>Chennai, Tamil Nadu</td>\n",
       "      <td>Education, Children, E-Learning</td>\n",
       "      <td>[['Jan, 2013', '$45k / Seed', '—', '—', '0']]</td>\n",
       "      <td>NaN</td>\n",
       "    </tr>\n",
       "    <tr>\n",
       "      <th>390</th>\n",
       "      <td>Giftology</td>\n",
       "      <td>Unknown</td>\n",
       "      <td>11 - 50</td>\n",
       "      <td>Giftology, a New Delhi, India-based social gifting startup. Founded by Aman Narang and Nikhil Sa...</td>\n",
       "      <td>New Delhi, Delhi</td>\n",
       "      <td>Social Media</td>\n",
       "      <td>[['Jan, 2013', 'undisclosed amount / Angel', '—', '—', '0']]</td>\n",
       "      <td>NaN</td>\n",
       "    </tr>\n",
       "    <tr>\n",
       "      <th>401</th>\n",
       "      <td>Playcez</td>\n",
       "      <td>2010</td>\n",
       "      <td>11 - 50</td>\n",
       "      <td>PlayCez is a fun social application, which helps you in discovering interesting places nearby in...</td>\n",
       "      <td>New Delhi, Delhi</td>\n",
       "      <td>Mobile</td>\n",
       "      <td>[['Mar, 2013', '$500k / Seed', '—', '—', '0'], ['Oct, 2012', '$30k / Seed', '—', '—', '0']]</td>\n",
       "      <td>NaN</td>\n",
       "    </tr>\n",
       "    <tr>\n",
       "      <th>424</th>\n",
       "      <td>Helical IT Solutions</td>\n",
       "      <td>November 5, 2012</td>\n",
       "      <td>11 - 50</td>\n",
       "      <td>Helical IT Solutions is a company focused on DWBI and that too on open source BI solutions, spec...</td>\n",
       "      <td>Hyderabad, Andhra Pradesh</td>\n",
       "      <td>Business Intelligence, Data Visualization, Data Mining, Software</td>\n",
       "      <td>[['May, 2013', '$2.5M / Seed', '—', '—', '0']]</td>\n",
       "      <td>NaN</td>\n",
       "    </tr>\n",
       "  </tbody>\n",
       "</table>\n",
       "</div>"
      ],
      "text/plain": [
       "                     name       founded_date employee_count  \\\n",
       "13            igrenEnergi               2013        11 - 50   \n",
       "172      Affine Analytics  February 15, 2011        11 - 50   \n",
       "190               Mojarto               2005        11 - 50   \n",
       "270          Wowflux Labs               2015        11 - 50   \n",
       "299            FleetRover               2015        11 - 50   \n",
       "377   Multistory Learning               2011        11 - 50   \n",
       "390             Giftology            Unknown        11 - 50   \n",
       "401               Playcez               2010        11 - 50   \n",
       "424  Helical IT Solutions   November 5, 2012        11 - 50   \n",
       "\n",
       "                                                                                             description  \\\n",
       "13   igrenEnergi profiled in Economic Times - igrenEnergi's 'packetization technology' boosts solar p...   \n",
       "172  Affine is a provider of high-end analytics services to solve complex business problems with offi...   \n",
       "190  Mojarto is looking for partnerships and inputs from everyone in the art industry. We believe tha...   \n",
       "270  Wowflux Labs is a manufacture professional product photography solutions that allow anyone to ca...   \n",
       "299  FleetRover delivers uncluttered insights into fleet movement, position, behaviour and health.Thr...   \n",
       "377  Multistory Learning Ltd, a Chennai, India-based education startup. Led by CEO Naresh R and Amrut...   \n",
       "390  Giftology, a New Delhi, India-based social gifting startup. Founded by Aman Narang and Nikhil Sa...   \n",
       "401  PlayCez is a fun social application, which helps you in discovering interesting places nearby in...   \n",
       "424  Helical IT Solutions is a company focused on DWBI and that too on open source BI solutions, spec...   \n",
       "\n",
       "                      location  \\\n",
       "13        Bangalore, Karnataka   \n",
       "172                  Bangalore   \n",
       "190           Haryana, Haryana   \n",
       "270           New Delhi, Delhi   \n",
       "299            London, England   \n",
       "377        Chennai, Tamil Nadu   \n",
       "390           New Delhi, Delhi   \n",
       "401           New Delhi, Delhi   \n",
       "424  Hyderabad, Andhra Pradesh   \n",
       "\n",
       "                                                           categories  \\\n",
       "13                           Energy Storage, Energy Management, Solar   \n",
       "172                                               Analytics, Big Data   \n",
       "190                                                               Art   \n",
       "270                                                               NaN   \n",
       "299                                               Analytics, Big Data   \n",
       "377                                   Education, Children, E-Learning   \n",
       "390                                                      Social Media   \n",
       "401                                                            Mobile   \n",
       "424  Business Intelligence, Data Visualization, Data Mining, Software   \n",
       "\n",
       "                                                                                    funding_data  \\\n",
       "13                                [['Feb, 2016', 'undisclosed amount / Venture', '—', '—', '0']]   \n",
       "172                                              [['Jan, 2012', '$100k / Angel', '—', '—', '0']]   \n",
       "190                                               [['Aug, 2016', '$445k / Seed', '—', '—', '0']]   \n",
       "270                               [['May, 2017', 'undisclosed amount / Venture', '—', '—', '0']]   \n",
       "299                                               [['May, 2015', '$1.8M / Seed', '—', '—', '0']]   \n",
       "377                                                [['Jan, 2013', '$45k / Seed', '—', '—', '0']]   \n",
       "390                                 [['Jan, 2013', 'undisclosed amount / Angel', '—', '—', '0']]   \n",
       "401  [['Mar, 2013', '$500k / Seed', '—', '—', '0'], ['Oct, 2012', '$30k / Seed', '—', '—', '0']]   \n",
       "424                                               [['May, 2013', '$2.5M / Seed', '—', '—', '0']]   \n",
       "\n",
       "    investor_data  \n",
       "13            NaN  \n",
       "172           NaN  \n",
       "190           NaN  \n",
       "270           NaN  \n",
       "299           NaN  \n",
       "377           NaN  \n",
       "390           NaN  \n",
       "401           NaN  \n",
       "424           NaN  "
      ]
     },
     "execution_count": 31,
     "metadata": {},
     "output_type": "execute_result"
    }
   ],
   "source": [
    "# Startups for which funding data is there but investor data is missing\n",
    "#\n",
    "# Not necessarily that investor data is missing @crunchbase\n",
    "df_raw[(~df_raw.funding_data.isnull()) & df_raw.investor_data.isnull()]"
   ]
  },
  {
   "cell_type": "markdown",
   "metadata": {},
   "source": [
    "igrenEnergi is a startup which belongs to this category (funding data is there but investor data is missing). But in the crunchbase website, the funding as well investor information is there for that organization. So, I am assuming the data went missing during the scrapping process. "
   ]
  },
  {
   "cell_type": "markdown",
   "metadata": {},
   "source": [
    "#### Since the goal of the exercise is to explore the data, I am not going to handle the missing values. I will keep those as it is for the rest of the process."
   ]
  },
  {
   "cell_type": "markdown",
   "metadata": {},
   "source": [
    "## 3. Cleaning & Exploring the data\n",
    "\n",
    "#### In the next section, I am going to pick columns/features one by one. Clean those and do exploratory data analysis.\n",
    "\n",
    "\n",
    "### 3.1 founded_date.\n",
    "\n",
    "founded_date consists of date. In few cases, the date string is appeneded with Aliases string. The aliases can be a considered as separate column itself."
   ]
  },
  {
   "cell_type": "code",
   "execution_count": 32,
   "metadata": {},
   "outputs": [
    {
     "data": {
      "text/html": [
       "<div>\n",
       "<style scoped>\n",
       "    .dataframe tbody tr th:only-of-type {\n",
       "        vertical-align: middle;\n",
       "    }\n",
       "\n",
       "    .dataframe tbody tr th {\n",
       "        vertical-align: top;\n",
       "    }\n",
       "\n",
       "    .dataframe thead th {\n",
       "        text-align: right;\n",
       "    }\n",
       "</style>\n",
       "<table border=\"1\" class=\"dataframe\">\n",
       "  <thead>\n",
       "    <tr style=\"text-align: right;\">\n",
       "      <th></th>\n",
       "      <th>name</th>\n",
       "      <th>founded_date</th>\n",
       "    </tr>\n",
       "  </thead>\n",
       "  <tbody>\n",
       "    <tr>\n",
       "      <th>4</th>\n",
       "      <td>DronaHQ</td>\n",
       "      <td>February 7, 2007Aliases:Deltecs Infotech Pvt Ltd</td>\n",
       "    </tr>\n",
       "    <tr>\n",
       "      <th>20</th>\n",
       "      <td>NowFloats</td>\n",
       "      <td>2012Aliases:Nowfloats Technologies Pvt. Ltd</td>\n",
       "    </tr>\n",
       "    <tr>\n",
       "      <th>25</th>\n",
       "      <td>GupShup</td>\n",
       "      <td>June 1, 2004Aliases:Webaroo</td>\n",
       "    </tr>\n",
       "    <tr>\n",
       "      <th>28</th>\n",
       "      <td>Vidooly</td>\n",
       "      <td>2014Aliases:Vidooly</td>\n",
       "    </tr>\n",
       "    <tr>\n",
       "      <th>30</th>\n",
       "      <td>WaveMaker</td>\n",
       "      <td>2003Aliases:ActiveGrid</td>\n",
       "    </tr>\n",
       "    <tr>\n",
       "      <th>38</th>\n",
       "      <td>Dailyhunt</td>\n",
       "      <td>2009Aliases:Newshunt</td>\n",
       "    </tr>\n",
       "    <tr>\n",
       "      <th>52</th>\n",
       "      <td>RailYatri</td>\n",
       "      <td>2011Aliases:Stelling Technologies Private Limited</td>\n",
       "    </tr>\n",
       "    <tr>\n",
       "      <th>67</th>\n",
       "      <td>BigBasket</td>\n",
       "      <td>October 1, 2011Aliases:Supermarket Grocery Supplies Private Limited</td>\n",
       "    </tr>\n",
       "    <tr>\n",
       "      <th>72</th>\n",
       "      <td>Vario.fitness</td>\n",
       "      <td>August 1, 2015Aliases:Vario, Vario Services Pvt. Ltd., Vario, Inc.</td>\n",
       "    </tr>\n",
       "    <tr>\n",
       "      <th>78</th>\n",
       "      <td>Faircent</td>\n",
       "      <td>2013Aliases:Fairassets Technologies India</td>\n",
       "    </tr>\n",
       "  </tbody>\n",
       "</table>\n",
       "</div>"
      ],
      "text/plain": [
       "             name  \\\n",
       "4         DronaHQ   \n",
       "20      NowFloats   \n",
       "25        GupShup   \n",
       "28        Vidooly   \n",
       "30      WaveMaker   \n",
       "38      Dailyhunt   \n",
       "52      RailYatri   \n",
       "67      BigBasket   \n",
       "72  Vario.fitness   \n",
       "78       Faircent   \n",
       "\n",
       "                                                           founded_date  \n",
       "4                      February 7, 2007Aliases:Deltecs Infotech Pvt Ltd  \n",
       "20                          2012Aliases:Nowfloats Technologies Pvt. Ltd  \n",
       "25                                          June 1, 2004Aliases:Webaroo  \n",
       "28                                                  2014Aliases:Vidooly  \n",
       "30                                               2003Aliases:ActiveGrid  \n",
       "38                                                 2009Aliases:Newshunt  \n",
       "52                    2011Aliases:Stelling Technologies Private Limited  \n",
       "67  October 1, 2011Aliases:Supermarket Grocery Supplies Private Limited  \n",
       "72   August 1, 2015Aliases:Vario, Vario Services Pvt. Ltd., Vario, Inc.  \n",
       "78                            2013Aliases:Fairassets Technologies India  "
      ]
     },
     "execution_count": 32,
     "metadata": {},
     "output_type": "execute_result"
    }
   ],
   "source": [
    "df_raw[df_raw.founded_date.str.contains(\"Aliases\")][['name','founded_date']].head(10)"
   ]
  },
  {
   "cell_type": "code",
   "execution_count": 33,
   "metadata": {},
   "outputs": [
    {
     "data": {
      "text/plain": [
       "55"
      ]
     },
     "execution_count": 33,
     "metadata": {},
     "output_type": "execute_result"
    }
   ],
   "source": [
    "# Check how many rows founded date consists of Aliases? Aliases can be added as a separate column itself.\n",
    "df_raw.founded_date.str.contains(\"Aliases\").sum()"
   ]
  },
  {
   "cell_type": "code",
   "execution_count": 34,
   "metadata": {},
   "outputs": [],
   "source": [
    "# Extarct the text which is there after the string \"Aliases:\" and add it to a separate column aliases\n",
    "df_raw[\"aliases\"] = df_raw.founded_date.apply(lambda x : x.split(\"Aliases:\")[1] if 'Aliases' in x else np.NAN)"
   ]
  },
  {
   "cell_type": "code",
   "execution_count": 35,
   "metadata": {},
   "outputs": [],
   "source": [
    "# String before \"Aliases:\" is the date the start up was formed. Extract that value and add it to founded_date\n",
    "df_raw[\"founded_date\"] = df_raw.founded_date.apply(lambda x : x.split(\"Aliases:\")[0] if 'Aliases' in x else x)"
   ]
  },
  {
   "cell_type": "code",
   "execution_count": 36,
   "metadata": {},
   "outputs": [],
   "source": [
    "# If the founded data is missing set it to a future value (year 2099)\n",
    "df_raw['founded_date'][df_raw['founded_date'].str.contains('Unknown')] = '2099'"
   ]
  },
  {
   "cell_type": "code",
   "execution_count": 37,
   "metadata": {
    "scrolled": true
   },
   "outputs": [],
   "source": [
    "# Convert founded data into datatime object\n",
    "df_raw['founded_date'] = pd.to_datetime(df_raw['founded_date'])"
   ]
  },
  {
   "cell_type": "code",
   "execution_count": 38,
   "metadata": {},
   "outputs": [
    {
     "data": {
      "text/html": [
       "<div>\n",
       "<style scoped>\n",
       "    .dataframe tbody tr th:only-of-type {\n",
       "        vertical-align: middle;\n",
       "    }\n",
       "\n",
       "    .dataframe tbody tr th {\n",
       "        vertical-align: top;\n",
       "    }\n",
       "\n",
       "    .dataframe thead th {\n",
       "        text-align: right;\n",
       "    }\n",
       "</style>\n",
       "<table border=\"1\" class=\"dataframe\">\n",
       "  <thead>\n",
       "    <tr style=\"text-align: right;\">\n",
       "      <th></th>\n",
       "      <th>name</th>\n",
       "      <th>founded_date</th>\n",
       "      <th>employee_count</th>\n",
       "      <th>description</th>\n",
       "      <th>location</th>\n",
       "      <th>categories</th>\n",
       "      <th>funding_data</th>\n",
       "      <th>investor_data</th>\n",
       "      <th>aliases</th>\n",
       "    </tr>\n",
       "  </thead>\n",
       "  <tbody>\n",
       "    <tr>\n",
       "      <th>0</th>\n",
       "      <td>Aujas Networks</td>\n",
       "      <td>2008-01-01</td>\n",
       "      <td>11 - 50</td>\n",
       "      <td>Aujas Networks Pvt. Ltd. offers information technology digital security solutions and services f...</td>\n",
       "      <td>Bangalore, Karnataka</td>\n",
       "      <td>Security, Cloud Security, Information Technology</td>\n",
       "      <td>[['Nov, 2013', '$5.4M / Series B', '—', 'IvyCap Ventures', '3'], ['Mar, 2011', '$2.6M / Series A...</td>\n",
       "      <td>[['IDG Ventures India', 'Series A', 'TC Meenakshisundaram', 'Series A', 'TC Meenakshisundaram', ...</td>\n",
       "      <td>NaN</td>\n",
       "    </tr>\n",
       "    <tr>\n",
       "      <th>1</th>\n",
       "      <td>CanvasFilp</td>\n",
       "      <td>2014-08-01</td>\n",
       "      <td>11 - 50</td>\n",
       "      <td>CanvasFlip is fastest growing prototyping suite to create and validate your application design p...</td>\n",
       "      <td>Bangalore, Karnataka</td>\n",
       "      <td>Software</td>\n",
       "      <td>[['Sep, 2015', '$1.2M / Seed', '—', '—', '2']]</td>\n",
       "      <td>[['Bessemer Venture Partners', 'Seed', '-'], ['Microsoft Accelerator Bangalore', 'Seed', '-']]</td>\n",
       "      <td>NaN</td>\n",
       "    </tr>\n",
       "    <tr>\n",
       "      <th>2</th>\n",
       "      <td>Canvazify</td>\n",
       "      <td>2014-01-13</td>\n",
       "      <td>11 - 50</td>\n",
       "      <td>NaN</td>\n",
       "      <td>Pune, Maharashtra</td>\n",
       "      <td>NaN</td>\n",
       "      <td>NaN</td>\n",
       "      <td>NaN</td>\n",
       "      <td>NaN</td>\n",
       "    </tr>\n",
       "  </tbody>\n",
       "</table>\n",
       "</div>"
      ],
      "text/plain": [
       "             name founded_date employee_count  \\\n",
       "0  Aujas Networks   2008-01-01        11 - 50   \n",
       "1      CanvasFilp   2014-08-01        11 - 50   \n",
       "2       Canvazify   2014-01-13        11 - 50   \n",
       "\n",
       "                                                                                           description  \\\n",
       "0  Aujas Networks Pvt. Ltd. offers information technology digital security solutions and services f...   \n",
       "1  CanvasFlip is fastest growing prototyping suite to create and validate your application design p...   \n",
       "2                                                                                                  NaN   \n",
       "\n",
       "               location                                        categories  \\\n",
       "0  Bangalore, Karnataka  Security, Cloud Security, Information Technology   \n",
       "1  Bangalore, Karnataka                                          Software   \n",
       "2     Pune, Maharashtra                                               NaN   \n",
       "\n",
       "                                                                                          funding_data  \\\n",
       "0  [['Nov, 2013', '$5.4M / Series B', '—', 'IvyCap Ventures', '3'], ['Mar, 2011', '$2.6M / Series A...   \n",
       "1                                                       [['Sep, 2015', '$1.2M / Seed', '—', '—', '2']]   \n",
       "2                                                                                                  NaN   \n",
       "\n",
       "                                                                                         investor_data  \\\n",
       "0  [['IDG Ventures India', 'Series A', 'TC Meenakshisundaram', 'Series A', 'TC Meenakshisundaram', ...   \n",
       "1       [['Bessemer Venture Partners', 'Seed', '-'], ['Microsoft Accelerator Bangalore', 'Seed', '-']]   \n",
       "2                                                                                                  NaN   \n",
       "\n",
       "  aliases  \n",
       "0     NaN  \n",
       "1     NaN  \n",
       "2     NaN  "
      ]
     },
     "execution_count": 38,
     "metadata": {},
     "output_type": "execute_result"
    }
   ],
   "source": [
    "# Take a look of the dataframe\n",
    "df_raw.head(3)"
   ]
  },
  {
   "cell_type": "markdown",
   "metadata": {},
   "source": [
    "#### The moment I casted the founded_date column to datetime format, the dates with ONLY year information got converted into yyyy-mm-dd format. For example, the string '2008' becomes 2008-01-01. This could be a problem if we want to calculate the age of a startup in months. However, since we don't have data with monthly precision for all the rows, I will use yearly information only.\n",
    "\n",
    "#### Calculate the age of the startup in years."
   ]
  },
  {
   "cell_type": "code",
   "execution_count": 39,
   "metadata": {},
   "outputs": [],
   "source": [
    "# Calculate the age of the startup based on the year on which it was founded\n",
    "current_year = pd.to_datetime('today').year\n",
    "df_raw['age'] = current_year - df_raw.founded_date.dt.year"
   ]
  },
  {
   "cell_type": "code",
   "execution_count": 40,
   "metadata": {},
   "outputs": [
    {
     "data": {
      "text/html": [
       "<div>\n",
       "<style scoped>\n",
       "    .dataframe tbody tr th:only-of-type {\n",
       "        vertical-align: middle;\n",
       "    }\n",
       "\n",
       "    .dataframe tbody tr th {\n",
       "        vertical-align: top;\n",
       "    }\n",
       "\n",
       "    .dataframe thead th {\n",
       "        text-align: right;\n",
       "    }\n",
       "</style>\n",
       "<table border=\"1\" class=\"dataframe\">\n",
       "  <thead>\n",
       "    <tr style=\"text-align: right;\">\n",
       "      <th></th>\n",
       "      <th>name</th>\n",
       "      <th>founded_date</th>\n",
       "      <th>employee_count</th>\n",
       "      <th>description</th>\n",
       "      <th>location</th>\n",
       "      <th>categories</th>\n",
       "      <th>funding_data</th>\n",
       "      <th>investor_data</th>\n",
       "      <th>aliases</th>\n",
       "      <th>age</th>\n",
       "    </tr>\n",
       "  </thead>\n",
       "  <tbody>\n",
       "    <tr>\n",
       "      <th>0</th>\n",
       "      <td>Aujas Networks</td>\n",
       "      <td>2008-01-01</td>\n",
       "      <td>11 - 50</td>\n",
       "      <td>Aujas Networks Pvt. Ltd. offers information technology digital security solutions and services f...</td>\n",
       "      <td>Bangalore, Karnataka</td>\n",
       "      <td>Security, Cloud Security, Information Technology</td>\n",
       "      <td>[['Nov, 2013', '$5.4M / Series B', '—', 'IvyCap Ventures', '3'], ['Mar, 2011', '$2.6M / Series A...</td>\n",
       "      <td>[['IDG Ventures India', 'Series A', 'TC Meenakshisundaram', 'Series A', 'TC Meenakshisundaram', ...</td>\n",
       "      <td>NaN</td>\n",
       "      <td>10</td>\n",
       "    </tr>\n",
       "    <tr>\n",
       "      <th>1</th>\n",
       "      <td>CanvasFilp</td>\n",
       "      <td>2014-08-01</td>\n",
       "      <td>11 - 50</td>\n",
       "      <td>CanvasFlip is fastest growing prototyping suite to create and validate your application design p...</td>\n",
       "      <td>Bangalore, Karnataka</td>\n",
       "      <td>Software</td>\n",
       "      <td>[['Sep, 2015', '$1.2M / Seed', '—', '—', '2']]</td>\n",
       "      <td>[['Bessemer Venture Partners', 'Seed', '-'], ['Microsoft Accelerator Bangalore', 'Seed', '-']]</td>\n",
       "      <td>NaN</td>\n",
       "      <td>4</td>\n",
       "    </tr>\n",
       "    <tr>\n",
       "      <th>2</th>\n",
       "      <td>Canvazify</td>\n",
       "      <td>2014-01-13</td>\n",
       "      <td>11 - 50</td>\n",
       "      <td>NaN</td>\n",
       "      <td>Pune, Maharashtra</td>\n",
       "      <td>NaN</td>\n",
       "      <td>NaN</td>\n",
       "      <td>NaN</td>\n",
       "      <td>NaN</td>\n",
       "      <td>4</td>\n",
       "    </tr>\n",
       "  </tbody>\n",
       "</table>\n",
       "</div>"
      ],
      "text/plain": [
       "             name founded_date employee_count  \\\n",
       "0  Aujas Networks   2008-01-01        11 - 50   \n",
       "1      CanvasFilp   2014-08-01        11 - 50   \n",
       "2       Canvazify   2014-01-13        11 - 50   \n",
       "\n",
       "                                                                                           description  \\\n",
       "0  Aujas Networks Pvt. Ltd. offers information technology digital security solutions and services f...   \n",
       "1  CanvasFlip is fastest growing prototyping suite to create and validate your application design p...   \n",
       "2                                                                                                  NaN   \n",
       "\n",
       "               location                                        categories  \\\n",
       "0  Bangalore, Karnataka  Security, Cloud Security, Information Technology   \n",
       "1  Bangalore, Karnataka                                          Software   \n",
       "2     Pune, Maharashtra                                               NaN   \n",
       "\n",
       "                                                                                          funding_data  \\\n",
       "0  [['Nov, 2013', '$5.4M / Series B', '—', 'IvyCap Ventures', '3'], ['Mar, 2011', '$2.6M / Series A...   \n",
       "1                                                       [['Sep, 2015', '$1.2M / Seed', '—', '—', '2']]   \n",
       "2                                                                                                  NaN   \n",
       "\n",
       "                                                                                         investor_data  \\\n",
       "0  [['IDG Ventures India', 'Series A', 'TC Meenakshisundaram', 'Series A', 'TC Meenakshisundaram', ...   \n",
       "1       [['Bessemer Venture Partners', 'Seed', '-'], ['Microsoft Accelerator Bangalore', 'Seed', '-']]   \n",
       "2                                                                                                  NaN   \n",
       "\n",
       "  aliases  age  \n",
       "0     NaN   10  \n",
       "1     NaN    4  \n",
       "2     NaN    4  "
      ]
     },
     "execution_count": 40,
     "metadata": {},
     "output_type": "execute_result"
    }
   ],
   "source": [
    "# Take a look of the dataframe\n",
    "df_raw.head(3)"
   ]
  },
  {
   "cell_type": "markdown",
   "metadata": {},
   "source": [
    "#### There will be negative values for age for the startups for which founding date is not provided (missing)"
   ]
  },
  {
   "cell_type": "code",
   "execution_count": 41,
   "metadata": {},
   "outputs": [
    {
     "data": {
      "text/plain": [
       "Text(0,0.5,'Number of Startups')"
      ]
     },
     "execution_count": 41,
     "metadata": {},
     "output_type": "execute_result"
    },
    {
     "data": {
      "image/png": "[encoded data removed]",
      "text/plain": [
       "<matplotlib.figure.Figure at 0x112245908>"
      ]
     },
     "metadata": {},
     "output_type": "display_data"
    }
   ],
   "source": [
    "# Check the age distribution of the startups using histogram\n",
    "ax = df_raw[(df_raw['age'] > 0)]['age'].hist(bins=20, figsize=(10, 6))\n",
    "ax.set_title(\"Histogram for Startup's Age\")\n",
    "ax.set_xlabel(\"Age (Years)\")\n",
    "ax.set_ylabel(\"Number of Startups\")"
   ]
  },
  {
   "cell_type": "code",
   "execution_count": 42,
   "metadata": {},
   "outputs": [
    {
     "data": {
      "text/plain": [
       "Text(0.5,0,'Age (Years)')"
      ]
     },
     "execution_count": 42,
     "metadata": {},
     "output_type": "execute_result"
    },
    {
     "data": {
      "image/png": "[encoded data removed]",
      "text/plain": [
       "<matplotlib.figure.Figure at 0x111a181d0>"
      ]
     },
     "metadata": {},
     "output_type": "display_data"
    }
   ],
   "source": [
    "# Check the age distribution of the startups using box plot\n",
    "ax = df_raw[(df_raw['age'] > 0)]['age'].plot.box(vert=False, figsize=(10, 4))\n",
    "ax.set_title(\"Distribution of Startups Age\")\n",
    "ax.set_xlabel(\"Age (Years)\")"
   ]
  },
  {
   "cell_type": "code",
   "execution_count": 43,
   "metadata": {},
   "outputs": [
    {
     "data": {
      "text/plain": [
       "count    440.000000\n",
       "mean       6.806818\n",
       "std        3.448475\n",
       "min        1.000000\n",
       "25%        4.000000\n",
       "50%        6.000000\n",
       "75%        9.000000\n",
       "max       24.000000\n",
       "Name: age, dtype: float64"
      ]
     },
     "execution_count": 43,
     "metadata": {},
     "output_type": "execute_result"
    }
   ],
   "source": [
    "# Get the quantiles for the age\n",
    "df_raw[(df_raw['age'] > 0)]['age'].describe()"
   ]
  },
  {
   "cell_type": "code",
   "execution_count": 44,
   "metadata": {},
   "outputs": [
    {
     "data": {
      "text/plain": [
       "(10, 10)"
      ]
     },
     "execution_count": 44,
     "metadata": {},
     "output_type": "execute_result"
    }
   ],
   "source": [
    "# How many startups have age more than 15 years\n",
    "df_raw[df_raw['age'] > 15].shape"
   ]
  },
  {
   "cell_type": "markdown",
   "metadata": {},
   "source": [
    "- The age of a typical startup is 6 years. Minimum and Maximum being 1 year and 15 years.\n",
    "- [TODO] There are few (10 in number) start ups with age more than 15 years (Outliers?)"
   ]
  },
  {
   "cell_type": "markdown",
   "metadata": {},
   "source": [
    "#### Let's revisit the Aliases column"
   ]
  },
  {
   "cell_type": "code",
   "execution_count": 45,
   "metadata": {},
   "outputs": [
    {
     "data": {
      "text/html": [
       "<div>\n",
       "<style scoped>\n",
       "    .dataframe tbody tr th:only-of-type {\n",
       "        vertical-align: middle;\n",
       "    }\n",
       "\n",
       "    .dataframe tbody tr th {\n",
       "        vertical-align: top;\n",
       "    }\n",
       "\n",
       "    .dataframe thead th {\n",
       "        text-align: right;\n",
       "    }\n",
       "</style>\n",
       "<table border=\"1\" class=\"dataframe\">\n",
       "  <thead>\n",
       "    <tr style=\"text-align: right;\">\n",
       "      <th></th>\n",
       "      <th>name</th>\n",
       "      <th>aliases</th>\n",
       "    </tr>\n",
       "  </thead>\n",
       "  <tbody>\n",
       "    <tr>\n",
       "      <th>4</th>\n",
       "      <td>DronaHQ</td>\n",
       "      <td>Deltecs Infotech Pvt Ltd</td>\n",
       "    </tr>\n",
       "    <tr>\n",
       "      <th>20</th>\n",
       "      <td>NowFloats</td>\n",
       "      <td>Nowfloats Technologies Pvt. Ltd</td>\n",
       "    </tr>\n",
       "    <tr>\n",
       "      <th>25</th>\n",
       "      <td>GupShup</td>\n",
       "      <td>Webaroo</td>\n",
       "    </tr>\n",
       "    <tr>\n",
       "      <th>28</th>\n",
       "      <td>Vidooly</td>\n",
       "      <td>Vidooly</td>\n",
       "    </tr>\n",
       "    <tr>\n",
       "      <th>30</th>\n",
       "      <td>WaveMaker</td>\n",
       "      <td>ActiveGrid</td>\n",
       "    </tr>\n",
       "    <tr>\n",
       "      <th>38</th>\n",
       "      <td>Dailyhunt</td>\n",
       "      <td>Newshunt</td>\n",
       "    </tr>\n",
       "    <tr>\n",
       "      <th>52</th>\n",
       "      <td>RailYatri</td>\n",
       "      <td>Stelling Technologies Private Limited</td>\n",
       "    </tr>\n",
       "    <tr>\n",
       "      <th>67</th>\n",
       "      <td>BigBasket</td>\n",
       "      <td>Supermarket Grocery Supplies Private Limited</td>\n",
       "    </tr>\n",
       "    <tr>\n",
       "      <th>72</th>\n",
       "      <td>Vario.fitness</td>\n",
       "      <td>Vario, Vario Services Pvt. Ltd., Vario, Inc.</td>\n",
       "    </tr>\n",
       "    <tr>\n",
       "      <th>78</th>\n",
       "      <td>Faircent</td>\n",
       "      <td>Fairassets Technologies India</td>\n",
       "    </tr>\n",
       "  </tbody>\n",
       "</table>\n",
       "</div>"
      ],
      "text/plain": [
       "             name                                       aliases\n",
       "4         DronaHQ                      Deltecs Infotech Pvt Ltd\n",
       "20      NowFloats               Nowfloats Technologies Pvt. Ltd\n",
       "25        GupShup                                       Webaroo\n",
       "28        Vidooly                                       Vidooly\n",
       "30      WaveMaker                                    ActiveGrid\n",
       "38      Dailyhunt                                      Newshunt\n",
       "52      RailYatri         Stelling Technologies Private Limited\n",
       "67      BigBasket  Supermarket Grocery Supplies Private Limited\n",
       "72  Vario.fitness  Vario, Vario Services Pvt. Ltd., Vario, Inc.\n",
       "78       Faircent                 Fairassets Technologies India"
      ]
     },
     "execution_count": 45,
     "metadata": {},
     "output_type": "execute_result"
    }
   ],
   "source": [
    "# Display few of the columns having aliases value\n",
    "df_raw[~df_raw.aliases.isnull()][['name', 'aliases']].head(10)"
   ]
  },
  {
   "cell_type": "markdown",
   "metadata": {},
   "source": [
    "- Quick look of the crunchbase website shows the value present in the aliases column matches with the \"Also known as\" field in the portal. May be the company renamed itself at some point of time.\n",
    "- In few cases, although the \"Aliases:\" string was present, there were no values after that. It could be scrapping issues.\n",
    "- One thought which comes to my mind is are these startups are older w.r.t the rest and at somepoint of time they rebranded themselves. Let's check."
   ]
  },
  {
   "cell_type": "code",
   "execution_count": 46,
   "metadata": {},
   "outputs": [
    {
     "data": {
      "text/plain": [
       "<matplotlib.axes._subplots.AxesSubplot at 0x111ad18d0>"
      ]
     },
     "execution_count": 46,
     "metadata": {},
     "output_type": "execute_result"
    },
    {
     "data": {
      "image/png": "[encoded data removed]",
      "text/plain": [
       "<matplotlib.figure.Figure at 0x111a18198>"
      ]
     },
     "metadata": {},
     "output_type": "display_data"
    }
   ],
   "source": [
    "df_raw[(~df_raw.aliases.isnull()) & (df_raw.age > 0)].age.plot.box(vert=False, figsize=(10, 4))"
   ]
  },
  {
   "cell_type": "markdown",
   "metadata": {},
   "source": [
    "However, I will not say there is any such drastic difference of these startups from their counter parts. However, I will monitor those as we get more data."
   ]
  },
  {
   "cell_type": "markdown",
   "metadata": {},
   "source": [
    "### 3.2 location of the startups"
   ]
  },
  {
   "cell_type": "code",
   "execution_count": 47,
   "metadata": {},
   "outputs": [
    {
     "data": {
      "text/plain": [
       "(10, 10)"
      ]
     },
     "execution_count": 47,
     "metadata": {},
     "output_type": "execute_result"
    }
   ],
   "source": [
    "# Check for missing values for locations\n",
    "df_raw[df_raw['location'].isnull()].shape"
   ]
  },
  {
   "cell_type": "code",
   "execution_count": 48,
   "metadata": {},
   "outputs": [],
   "source": [
    "# Replace the missing values with the string \"Unknown Location\"\n",
    "df_raw['location'].fillna('Unknown Location', inplace=True)"
   ]
  },
  {
   "cell_type": "code",
   "execution_count": 49,
   "metadata": {},
   "outputs": [
    {
     "data": {
      "text/plain": [
       "84"
      ]
     },
     "execution_count": 49,
     "metadata": {},
     "output_type": "execute_result"
    }
   ],
   "source": [
    "# From how many cities?\n",
    "len(df_raw.location.unique())"
   ]
  },
  {
   "cell_type": "markdown",
   "metadata": {},
   "source": [
    "#### Generate a wordclod for the location. That will give some idea about the geographical spread of that data."
   ]
  },
  {
   "cell_type": "code",
   "execution_count": 50,
   "metadata": {},
   "outputs": [
    {
     "data": {
      "image/png": "[encoded data removed]",
      "text/plain": [
       "<matplotlib.figure.Figure at 0x111ae1c18>"
      ]
     },
     "metadata": {},
     "output_type": "display_data"
    }
   ],
   "source": [
    "# Generate a wordcloud for the locations\n",
    "plt.figure(figsize=(12,6))\n",
    "wordcloud = WordCloud(background_color='black', width=700, height=350, max_font_size=60, max_words=50).generate(' '.join(df_raw.location))\n",
    "wordcloud.recolor(random_state=0)\n",
    "plt.imshow(wordcloud)\n",
    "plt.title(\"Location of the Startups\", fontsize=20)\n",
    "plt.axis(\"off\")\n",
    "plt.show()"
   ]
  },
  {
   "cell_type": "markdown",
   "metadata": {},
   "source": [
    "#### From the wordcloud, it seems most of the startups are from India. Based on my knowledge about geography, I am going to MANUALLY add state and country for each city in India."
   ]
  },
  {
   "cell_type": "code",
   "execution_count": 51,
   "metadata": {},
   "outputs": [],
   "source": [
    "# At the end of this step all the cities from India will have corresponding state and country\n",
    "df_raw.loc[df_raw.location.str.contains('Bangalore|Bengaluru|Kormangala|Whitefield'), 'location'] = 'Bangalore, Karnataka, India'\n",
    "df_raw.loc[df_raw.location.str.contains('Tumkur'), 'location'] = 'Tumkur, Karnataka, India'\n",
    "df_raw.loc[df_raw.location.str.contains('Udupi'), 'location'] = 'Udupi, Karnataka, India'\n",
    "\n",
    "df_raw.loc[df_raw.location.str.contains('Mumbai'), 'location'] = 'Mumbai, Maharashtra, India'\n",
    "df_raw.loc[df_raw.location.str.contains('Pune'), 'location'] = 'Pune, Maharashtra, India'\n",
    "df_raw.loc[df_raw.location.str.contains('Andheri'), 'location'] = 'Andheri, Maharashtra, India'\n",
    "df_raw.loc[df_raw.location.str.contains('Nagpur'), 'location'] = 'Nagpur, Maharashtra, India'\n",
    "\n",
    "df_raw.loc[df_raw.location.str.contains('Delhi'), 'location'] = 'Delhi, Delhi, India'\n",
    "\n",
    "df_raw.loc[df_raw.location.str.contains('Gurgaon'), 'location'] = 'Gurgaon, Haryana, India'\n",
    "df_raw.loc[df_raw.location.str.contains('Faridabad'), 'location'] = 'Faridabad, Haryana, India'\n",
    "df_raw.loc[df_raw.location.str.contains('Yamunanagar'), 'location'] = 'Yamunanagar, Haryana, India'\n",
    "\n",
    "# Exact city name is not mentioned\n",
    "df_raw.loc[df_raw.location =='Haryana, Haryana', 'location'] = 'Haryana, Haryana, India'\n",
    "df_raw.loc[df_raw.location == 'Haryana', 'location'] = 'Haryana, Haryana, India'\n",
    "\n",
    "df_raw.loc[df_raw.location.str.contains('Noida'), 'location'] = 'Noida, Uttar Pradesh, India'\n",
    "\n",
    "df_raw.loc[df_raw.location.str.contains('Shimla'), 'location'] = 'Shimla, Himachal Pradesh, India'\n",
    "\n",
    "df_raw.loc[df_raw.location.str.contains('Chandigarh'), 'location'] = 'Chandigarh, Chandigarh, India'\n",
    "\n",
    "df_raw.loc[df_raw.location.str.contains('Chennai'), 'location'] = 'Chennai, Tamil Nadu, India'\n",
    "df_raw.loc[df_raw.location.str.contains('Tirunelveli'), 'location'] = 'Tirunelveli, Tamil Nadu, India'\n",
    "df_raw.loc[df_raw.location.str.contains('Taramani'), 'location'] = 'Taramani, Tamil Nadu, India'\n",
    "\n",
    "df_raw.loc[df_raw.location.str.contains('Ahmedabad'), 'location'] = 'Ahmedabad, Gujarat, India'\n",
    "df_raw.loc[df_raw.location.str.contains('Vadodara'), 'location'] = 'Vadodara, Gujarat, India'\n",
    "\n",
    "df_raw.loc[df_raw.location.str.contains('Jaipur'), 'location'] = 'Jaipur, Rajasthan, India'\n",
    "\n",
    "df_raw.loc[df_raw.location.str.contains('Hyderabad'), 'location'] = 'Hyderabad, Andhra Pradesh, India'\n",
    "\n",
    "df_raw.loc[df_raw.location.str.contains('Kolkata'), 'location'] = 'Kolkata, West Bengal, India'\n",
    "\n",
    "df_raw.loc[df_raw.location.str.contains('Indore'), 'location'] = 'Indore, Madhya Pradesh, India'"
   ]
  },
  {
   "cell_type": "code",
   "execution_count": 52,
   "metadata": {},
   "outputs": [],
   "source": [
    "# Add three new columns called city, state, country for startups from India. \n",
    "df_raw[\"city\"] = df_raw.location.apply(lambda x : x.split(\",\")[0].strip() if 'India' in x else np.NAN)\n",
    "df_raw[\"state\"] = df_raw.location.apply(lambda x : x.split(\",\")[1].strip() if 'India' in x else np.NAN)\n",
    "df_raw[\"country\"] = df_raw.location.apply(lambda x : x.split(\",\")[2].strip() if 'India' in x else np.NAN)"
   ]
  },
  {
   "cell_type": "code",
   "execution_count": 53,
   "metadata": {},
   "outputs": [
    {
     "data": {
      "image/png": "[encoded data removed]",
      "text/plain": [
       "<matplotlib.figure.Figure at 0x1121d24a8>"
      ]
     },
     "metadata": {},
     "output_type": "display_data"
    }
   ],
   "source": [
    "# For countries outside India, let me create a word cloud and check where are those located\n",
    "df_locations_outside_india = df_raw[~(df_raw['country'] == \"India\")]\n",
    "plt.figure(figsize=(12,6))\n",
    "wordcloud = WordCloud(background_color='black', width=700, height=350, max_font_size=60, max_words=50).generate(' '.join(df_locations_outside_india.location))\n",
    "wordcloud.recolor(random_state=0)\n",
    "plt.imshow(wordcloud)\n",
    "plt.title(\"Locations (Outside India)\", fontsize=20)\n",
    "plt.axis(\"off\")\n",
    "plt.show()"
   ]
  },
  {
   "cell_type": "markdown",
   "metadata": {},
   "source": [
    "#### It seems startups from outside India (present in the dataset) are mostly from USA, Singapore. \n",
    "- [TODO] Identify start ups from outside India by their City and State"
   ]
  },
  {
   "cell_type": "code",
   "execution_count": null,
   "metadata": {},
   "outputs": [],
   "source": [
    "# How many start ups from India\n",
    "print(\"Start ups from India :\", df_raw[df_raw[\"country\"] == \"India\"].shape[0])\n",
    "print(\"Start ups outside India (including Unknown Location) :\", df_raw[~(df_raw[\"country\"] == \"India\")].shape[0])"
   ]
  },
  {
   "cell_type": "code",
   "execution_count": null,
   "metadata": {},
   "outputs": [],
   "source": [
    "# Mark country for all the startups outside India as \"Outside India\"\n",
    "df_raw.loc[~(df_raw[\"country\"] == \"India\"), 'country'] = \"Outside India\""
   ]
  },
  {
   "cell_type": "markdown",
   "metadata": {},
   "source": [
    "#### Let me explore the startups inside India."
   ]
  },
  {
   "cell_type": "code",
   "execution_count": null,
   "metadata": {},
   "outputs": [],
   "source": [
    "df_india = df_raw[df_raw[\"country\"] == \"India\"]"
   ]
  },
  {
   "cell_type": "markdown",
   "metadata": {},
   "source": [
    "#### Find out the Top 10 cities having most of the start ups."
   ]
  },
  {
   "cell_type": "code",
   "execution_count": null,
   "metadata": {},
   "outputs": [],
   "source": [
    "ax = ((df_india.city.value_counts()[0:10]/df_india.shape[0]) * 100).sort_values(ascending=True).plot.barh(figsize=(10, 8))\n",
    "ax.set_title(\"Top 10 cities with highest number of Startups (India)\")\n",
    "ax.set_ylabel(\"Name of the city\")\n",
    "ax.set_xlabel(\"Number of Startups\")"
   ]
  },
  {
   "cell_type": "markdown",
   "metadata": {},
   "source": [
    "#### Note : Haryana shows up as as city. This is because for few of the startups from Haryana, city name is not mentioned in the dataset. For those startups, I have marked the city as Haryana to get some sense of location."
   ]
  },
  {
   "cell_type": "code",
   "execution_count": null,
   "metadata": {},
   "outputs": [],
   "source": [
    "# Find out the states having most of the start ups.\n",
    "ax = ((df_india.state.value_counts()[0:10]/df_india.shape[0]) * 100).sort_values(ascending=True).plot.barh(figsize=(10, 8))\n",
    "ax.set_title(\"Top 10 states with highest number of Startups (India)\")\n",
    "ax.set_ylabel(\"Name of the State\")\n",
    "ax.set_xlabel(\"Number of Startups\")"
   ]
  },
  {
   "cell_type": "code",
   "execution_count": null,
   "metadata": {},
   "outputs": [],
   "source": [
    "# Check if there is any drastic difference in the age of the startups within India and outside India\n",
    "df_valid_age = df_raw[df_raw.age > 0]\n",
    "ax = df_valid_age.boxplot(column='age', by='country', vert=False, figsize=(10, 6))\n",
    "ax.set_title(\"Distribution of Age\")\n",
    "ax.set_ylabel(\"Country\")\n",
    "ax.set_xlabel(\"Age (Years)\")"
   ]
  },
  {
   "cell_type": "markdown",
   "metadata": {},
   "source": [
    "#### The boxplot does not indicate any drastic difference in the age distribution of the startups within and outside India. \n",
    "- [TODO] It could be interesting to see the difference across countries (India vs USA vs Singpore) provided we have sufficient number of data from different countries."
   ]
  },
  {
   "cell_type": "markdown",
   "metadata": {},
   "source": [
    "### 3.3 Employee Size"
   ]
  },
  {
   "cell_type": "code",
   "execution_count": null,
   "metadata": {},
   "outputs": [],
   "source": [
    "# Any missing value for employee count?\n",
    "df_raw.employee_count.isnull().sum()"
   ]
  },
  {
   "cell_type": "code",
   "execution_count": null,
   "metadata": {},
   "outputs": [],
   "source": [
    "# How many employees do they have?\n",
    "df_raw.employee_count.value_counts()"
   ]
  },
  {
   "cell_type": "markdown",
   "metadata": {},
   "source": [
    "#### Most of the startups have 11 to 50 employess. This is little surprising."
   ]
  },
  {
   "cell_type": "markdown",
   "metadata": {},
   "source": [
    "### 3.4 funding_data "
   ]
  },
  {
   "cell_type": "markdown",
   "metadata": {},
   "source": [
    "#### Let's check the total amount of funding for startups which has funding data"
   ]
  },
  {
   "cell_type": "code",
   "execution_count": null,
   "metadata": {},
   "outputs": [],
   "source": [
    "# Let me inspect funding information for one of the rows\n",
    "# It looks like list of lists\n",
    "df_raw.iloc[0].funding_data"
   ]
  },
  {
   "cell_type": "code",
   "execution_count": null,
   "metadata": {},
   "outputs": [],
   "source": [
    "# But the type is actually String\n",
    "type(df_raw.funding_data.iloc[0])"
   ]
  },
  {
   "cell_type": "markdown",
   "metadata": {},
   "source": [
    "- I have refered to the crunchbase website to understand the structure of funding_data and investor_data\n",
    "- crunchbase has two sections for each startups called \"Funding Rounds\" and \"Investors\". Information from these two sections have been scrapped into funding_data and investor_data column.\n",
    "- As far as funding data is concerned, the outer list consists of information about multiple funding rounds.\n",
    "- The inner lists consist of information about individual funding round. It follows the following format:\n",
    " \n",
    " [[date_of_investment, amount_invested(in dollar/euro/INR)/investment_round, '-', lead_investor_name, total_number_of_investors], [], ..]"
   ]
  },
  {
   "cell_type": "code",
   "execution_count": null,
   "metadata": {},
   "outputs": [],
   "source": [
    "# Check for missing values\n",
    "df_raw.funding_data.isnull().sum()"
   ]
  },
  {
   "cell_type": "code",
   "execution_count": null,
   "metadata": {},
   "outputs": [],
   "source": [
    "# Fill all the missing funding data with string representing empty list\n",
    "# This will help in the next step while converting the strings into lists\n",
    "df_raw.funding_data.fillna(\"[]\", inplace=True)"
   ]
  },
  {
   "cell_type": "code",
   "execution_count": null,
   "metadata": {},
   "outputs": [],
   "source": [
    "# Let's convert the strings to list of lists\n",
    "df_raw.funding_data = df_raw[~(df_raw.funding_data.isnull())].funding_data.apply(lambda x : ast.literal_eval(x))"
   ]
  },
  {
   "cell_type": "markdown",
   "metadata": {},
   "source": [
    "#### At this stage, all the missing values for funding_data has been replaced with empty lists."
   ]
  },
  {
   "cell_type": "markdown",
   "metadata": {},
   "source": [
    "#### I am creating a new column called round_of_funding. This should be equal to the number of lists inside the outer list. "
   ]
  },
  {
   "cell_type": "code",
   "execution_count": null,
   "metadata": {},
   "outputs": [],
   "source": [
    "# How many rounds of funding?\n",
    "df_raw[\"round_of_funding\"] = df_raw[~(df_raw.funding_data.isnull())].funding_data.apply(lambda x : len(x))"
   ]
  },
  {
   "cell_type": "code",
   "execution_count": null,
   "metadata": {},
   "outputs": [],
   "source": [
    "# Take a look of the dataframe\n",
    "df_raw.head(2)"
   ]
  },
  {
   "cell_type": "markdown",
   "metadata": {},
   "source": [
    "#### All the rows which have 0 as round_of_funding are associated with missing values."
   ]
  },
  {
   "cell_type": "markdown",
   "metadata": {},
   "source": [
    "#### How many rounds of funding a typical startup receives?"
   ]
  },
  {
   "cell_type": "code",
   "execution_count": null,
   "metadata": {},
   "outputs": [],
   "source": [
    "# How many rounds of funding a typical starup receives?\n",
    "\n",
    "# Consider the startups with valid age and valid rounds of fundings (without missing values)\n",
    "df_valid_age_funding = df_raw[(df_raw.round_of_funding > 0) & (df_raw.age > 0)]\n",
    "ax = df_valid_age_funding['round_of_funding'].hist(figsize=(10, 6))\n",
    "ax.set_title(\"Histogram of Number of Fundings\")\n",
    "ax.set_xlabel(\"Number of Funding Rounds\")\n",
    "ax.set_ylabel(\"Number of Startups\")"
   ]
  },
  {
   "cell_type": "code",
   "execution_count": null,
   "metadata": {},
   "outputs": [],
   "source": [
    "# Use a boxplot to understand the same data\n",
    "ax = df_valid_age_funding['round_of_funding'].plot.box(vert=False, figsize=(10, 4), legend=False)\n",
    "ax.set_title(\"Distribution of Number of Fundings\")\n",
    "ax.set_xlabel(\"Number of Funding Rounds\")"
   ]
  },
  {
   "cell_type": "code",
   "execution_count": null,
   "metadata": {},
   "outputs": [],
   "source": [
    "df_valid_age_funding.round_of_funding.describe()"
   ]
  },
  {
   "cell_type": "markdown",
   "metadata": {},
   "source": [
    "- A typical startup (Median) receives 2 rounds of funding\n",
    "- All the startups have received atleast one round of funding\n",
    "- There are startups which have received 10 rounds of funding as well"
   ]
  },
  {
   "cell_type": "markdown",
   "metadata": {},
   "source": [
    "#### Check if there is any relationship between age and round of funding"
   ]
  },
  {
   "cell_type": "code",
   "execution_count": null,
   "metadata": {},
   "outputs": [],
   "source": [
    "# Density of each points indicates number of points coinciding at that point\n",
    "ax = df_valid_age_funding.plot.scatter('age', 'round_of_funding', figsize=(8, 6), legend=False, alpha=0.3)\n",
    "ax.set_title(\"Number of Fundings vs Age (Year)\")\n",
    "ax.set_ylabel(\"Number of Funding Rounds\")\n",
    "ax.set_xlabel(\"Age (Year)\")"
   ]
  },
  {
   "cell_type": "markdown",
   "metadata": {},
   "source": [
    "#### Observations\n",
    "- There is no linear relationship between the age and rounds of funding of the startups"
   ]
  },
  {
   "cell_type": "code",
   "execution_count": null,
   "metadata": {},
   "outputs": [],
   "source": [
    "# Plot a stacked barplot to understand the relationship better\n",
    "df = df_valid_age_funding.groupby(['age', 'round_of_funding'])['age'].count().unstack('round_of_funding').fillna(0)\n",
    "ax = df[[1, 2, 3, 4, 5, 6, 7, 8, 9, 10]].plot(kind='bar', stacked=True, colormap='Paired', figsize=(12, 8))\n",
    "ax.set_title(\"Round of Funding vs Age\")\n",
    "ax.set_xlabel('Age (Year)')\n",
    "ax.set_ylabel('Number of Startups')"
   ]
  },
  {
   "cell_type": "markdown",
   "metadata": {},
   "source": [
    "For startups of age 2\n",
    "    - 1 startup received 3 rounds of funding\n",
    "    - 2 startups received 2 rounds of funding\n",
    "    - 6 startups received 1 rounds of funding\n",
    "For startups of age 3\n",
    "    - 1 startups received 5 rounds of funding\n",
    "    - 12 startups received 3 rounds of funding\n",
    "    - 20 startups received 2 rounds of funding\n",
    "    - 21 startups received 1 rounds of funding\n",
    "    \n",
    "Startups with age more than 15 years\n",
    "    - [TODO] Received upto 4 rounds of funding. Need to inspect those startups "
   ]
  },
  {
   "cell_type": "markdown",
   "metadata": {},
   "source": [
    "### How much of funding (in million dollars) startups have received over time?\n",
    "- Undisclosed amount has been considered as 0\n",
    "- Other currencies have been converted into dollar values"
   ]
  },
  {
   "cell_type": "code",
   "execution_count": null,
   "metadata": {},
   "outputs": [],
   "source": [
    "# Let's take a look of the funding information for one of the rows\n",
    "df_raw.iloc[9].funding_data"
   ]
  },
  {
   "cell_type": "code",
   "execution_count": null,
   "metadata": {},
   "outputs": [],
   "source": [
    "# Dollar to Indian Rupee conversion amount\n",
    "dollar_to_indian_rupee = 65.0\n",
    "# Dollar to Euro conversion amount\n",
    "euro_to_dollar = 1.23\n",
    "\n",
    "def calculate_sum_of_funding(funding_data_list):\n",
    "    '''\n",
    "    Calculate the total sum of fundings over multiple rounds \n",
    "    '''\n",
    "    funding_list = [value_of_currency(parent[1].split(\"/\")[0].strip()) for parent in funding_data_list]\n",
    "    return sum(funding_list)\n",
    "\n",
    "def value_of_currency(s):\n",
    "    '''\n",
    "    Converts different currencies to dollar values\n",
    "    For example, \n",
    "        $2.4 M will be converted into 2.4\n",
    "    '''\n",
    "    if \"$\" in s:\n",
    "        return value_to_float(s.replace(\"$\", \"\"))\n",
    "    elif \"₹\" in s:\n",
    "        return value_to_float(s.replace(\"₹\", \"\"))/dollar_to_indian_rupee\n",
    "    elif \"€\" in s:\n",
    "        return value_to_float(s.replace(\"€\", \"\"))* euro_to_dollar\n",
    "    elif \"undisclosed amount\" in s:\n",
    "        return 0.0\n",
    "    else:\n",
    "        print(s)\n",
    "        \n",
    "def value_to_float(x):\n",
    "    '''\n",
    "    Converts the strings holding the amount into millions (numeric)\n",
    "    '''\n",
    "    if type(x) == float or type(x) == int:\n",
    "        return x\n",
    "    if 'K' in x:\n",
    "        if len(x) > 1:\n",
    "            return float(x.replace('K', '')) / 1000\n",
    "        return 1000.0\n",
    "    elif 'k' in x:\n",
    "        if len(x) > 1:\n",
    "            return float(x.replace('k', '')) / 1000\n",
    "        return 1000.0\n",
    "    elif 'M' in x:\n",
    "        if len(x) > 1:\n",
    "            return float(x.replace('M', ''))\n",
    "        return 1000000.0\n",
    "    elif 'B' in x:\n",
    "        return float(x.replace('B', '')) * 1000\n",
    "    else:\n",
    "        print(\"There is a problem\", x)\n",
    "        \n",
    "    return 0.0"
   ]
  },
  {
   "cell_type": "markdown",
   "metadata": {},
   "source": [
    "#### Add a new column with Total amount of (disclosed) funding over multiple rounds in millions dollars (M)"
   ]
  },
  {
   "cell_type": "code",
   "execution_count": null,
   "metadata": {},
   "outputs": [],
   "source": [
    "# Total amount of (disclosed) funding over multiple rounds in millions dollars (M)\n",
    "df_raw['total_disclosed_funding'] = df_raw.funding_data.apply(lambda x : calculate_sum_of_funding(x))"
   ]
  },
  {
   "cell_type": "markdown",
   "metadata": {},
   "source": [
    "#### There are startups for which number of funding rounds is non-zero, but total_disclosed_funding is zero. Check few of those."
   ]
  },
  {
   "cell_type": "code",
   "execution_count": null,
   "metadata": {},
   "outputs": [],
   "source": [
    "df_raw[(df_raw.round_of_funding != 0) & (df_raw.total_disclosed_funding == 0)][\"funding_data\"].head(3)"
   ]
  },
  {
   "cell_type": "markdown",
   "metadata": {},
   "source": [
    "#### A quick check shows that these startups have not disclosed any funding amount. How many such are there?"
   ]
  },
  {
   "cell_type": "code",
   "execution_count": null,
   "metadata": {},
   "outputs": [],
   "source": [
    "# How many startups are there for which none of the funding amount has been disclosed,\n",
    "# but actully the startups has received funding \n",
    "df_raw[(df_raw.round_of_funding != 0) & (df_raw.total_disclosed_funding == 0)].shape[0]"
   ]
  },
  {
   "cell_type": "code",
   "execution_count": null,
   "metadata": {},
   "outputs": [],
   "source": [
    "df_raw[(df_raw.round_of_funding != 0) & (df_raw.total_disclosed_funding == 0)].country.value_counts()"
   ]
  },
  {
   "cell_type": "markdown",
   "metadata": {},
   "source": [
    "#### Most of these startups with undisclosed funding amounts are from India\n",
    "- [TODO] Which sector do they belong to? \n",
    "\n",
    "#### I want to explore the startups which has disclosed their funding amount"
   ]
  },
  {
   "cell_type": "code",
   "execution_count": null,
   "metadata": {},
   "outputs": [],
   "source": [
    "# Get the startups which has valid information about round of funding and have disclosed their funding information\n",
    "df_valid_funding = df_raw[(df_raw.round_of_funding > 0) & (df_raw.total_disclosed_funding > 0)]"
   ]
  },
  {
   "cell_type": "code",
   "execution_count": null,
   "metadata": {},
   "outputs": [],
   "source": [
    "# Take a look\n",
    "df_valid_funding.head(3)"
   ]
  },
  {
   "cell_type": "code",
   "execution_count": null,
   "metadata": {},
   "outputs": [],
   "source": [
    "ax = df_valid_funding['total_disclosed_funding'].hist(bins=100, figsize=(10, 6))\n",
    "ax.set_title('Total Disclosed Funding Received by Startups')\n",
    "ax.set_ylabel('Count of Startups')\n",
    "ax.set_xlabel('Funding Received (Million $)')"
   ]
  },
  {
   "cell_type": "code",
   "execution_count": null,
   "metadata": {},
   "outputs": [],
   "source": [
    "ax = df_valid_funding['total_disclosed_funding'].plot.box(vert=False, figsize=(10, 4), legend=False)\n",
    "ax.set_title('Total Disclosed Funding Received by Startups')\n",
    "ax.set_xlabel('Funding Received (Million $)')"
   ]
  },
  {
   "cell_type": "code",
   "execution_count": null,
   "metadata": {},
   "outputs": [],
   "source": [
    "df_valid_funding['total_disclosed_funding'].describe()"
   ]
  },
  {
   "cell_type": "markdown",
   "metadata": {},
   "source": [
    "- The histogram is right skewed indicating most of the startups received smaller amount of funding where as very few startups received huge amount funding\n",
    "- A typical start up (median) received 6.17 M as funding\n",
    "- There are startups which has received funds between 100M to 500M (Outliers)"
   ]
  },
  {
   "cell_type": "markdown",
   "metadata": {},
   "source": [
    "#### Any relationship between Age and funding received?"
   ]
  },
  {
   "cell_type": "code",
   "execution_count": null,
   "metadata": {},
   "outputs": [],
   "source": [
    "df_valid_age_funding = df_valid_funding[df_valid_funding['age'] > 0]\n",
    "ax = df_valid_age_funding.plot.scatter('age', 'total_disclosed_funding', figsize=(10, 5), alpha=0.3)\n",
    "ax.set_title(\"Disclosed Fundings vs Age\")\n",
    "ax.set_ylabel(\"Disclosed Fundings (Million $)\")\n",
    "ax.set_xlabel(\"Age (Year)\")"
   ]
  },
  {
   "cell_type": "markdown",
   "metadata": {},
   "source": [
    "- Observation\n",
    "    - I would have been happy to see that with age, amount of funding is linearly increasing. But that is not the case.\n",
    "    - The relationship between age and funding received is not linear in general\n",
    "    - Starups which are 11 years or older has not received large amount of funding \n",
    "        - [TODO] Identify the sectors for the outliers"
   ]
  },
  {
   "cell_type": "markdown",
   "metadata": {},
   "source": [
    "# 3.5 Investor data"
   ]
  },
  {
   "cell_type": "code",
   "execution_count": null,
   "metadata": {},
   "outputs": [],
   "source": [
    "# Take a look. Like funding data it also looks like list of lists\n",
    "df_raw.iloc[0].investor_data"
   ]
  },
  {
   "cell_type": "markdown",
   "metadata": {},
   "source": [
    "- Here also, I have taken help of the crunchbase portal to understand the structure of the data (Investors Sestion)\n",
    "- Data Format\n",
    "   [[investor_name, funding_round, partner_name, funding_round, ..], [], ..]"
   ]
  },
  {
   "cell_type": "code",
   "execution_count": null,
   "metadata": {},
   "outputs": [],
   "source": [
    "# For how many rows there are missing values\n",
    "df_raw[df_raw.investor_data.isnull()].shape[0]"
   ]
  },
  {
   "cell_type": "code",
   "execution_count": null,
   "metadata": {},
   "outputs": [],
   "source": [
    "# Replace missing values with string representing empty list. This is going to help in the next step\n",
    "df_raw.investor_data.fillna(\"[]\", inplace=True)"
   ]
  },
  {
   "cell_type": "code",
   "execution_count": null,
   "metadata": {},
   "outputs": [],
   "source": [
    "# Convert the string into list of lists objects\n",
    "df_raw.investor_data = df_raw.investor_data.apply(lambda x : ast.literal_eval(x))"
   ]
  },
  {
   "cell_type": "markdown",
   "metadata": {},
   "source": [
    "#### Create a new feature called number of investors"
   ]
  },
  {
   "cell_type": "code",
   "execution_count": null,
   "metadata": {},
   "outputs": [],
   "source": [
    "# Create a new feature called number of investors. That should the number of lists inside the outer list\n",
    "df_raw['number_of_investors'] = df_raw.investor_data.apply(lambda x : len(x))"
   ]
  },
  {
   "cell_type": "code",
   "execution_count": null,
   "metadata": {},
   "outputs": [],
   "source": [
    "# We will consider all the startups for which number of investors is more than zero (Exclude missing value cases)\n",
    "df_valid_funding_investor = df_raw[(df_raw.number_of_investors > 0) & (df_raw.round_of_funding > 0)]"
   ]
  },
  {
   "cell_type": "code",
   "execution_count": null,
   "metadata": {},
   "outputs": [],
   "source": [
    "# Histogram of number of investors\n",
    "ax = df_valid_funding_investor['number_of_investors'].hist(bins=10, figsize=(10, 6))\n",
    "ax.set_title(\"Distribution of Number of Investors\")\n",
    "ax.set_xlabel(\"Number of investor funding a startup\")\n",
    "ax.set_ylabel(\"Number of Startups\")"
   ]
  },
  {
   "cell_type": "code",
   "execution_count": null,
   "metadata": {},
   "outputs": [],
   "source": [
    "ax = df_valid_funding_investor['number_of_investors'].plot.box(vert=False, figsize=(10, 4), legend=False)\n",
    "ax.set_title(\"Distribution of Number of Investors\")\n",
    "ax.set_xlabel(\"Number of Investors\")"
   ]
  },
  {
   "cell_type": "code",
   "execution_count": null,
   "metadata": {},
   "outputs": [],
   "source": [
    "df_valid_funding_investor['number_of_investors'].describe()"
   ]
  },
  {
   "cell_type": "markdown",
   "metadata": {},
   "source": [
    "- Observations\n",
    "    - Distribution is rightly skewed. A typical startup has attracted 4 investors\n",
    "    - There are startups which has been funded by 12+ investors\n",
    "        - [TODO] Check those startups"
   ]
  },
  {
   "cell_type": "code",
   "execution_count": null,
   "metadata": {},
   "outputs": [],
   "source": [
    "# Relationship between Number of investors and funding amount\n",
    "ax = df_valid_funding_investor.plot.scatter(\"number_of_investors\", \"total_disclosed_funding\", alpha=0.5, figsize=(10, 6), legend=False)\n",
    "ax.set_title(\"Disclosed Fundings vs Number of Investors\")\n",
    "ax.set_ylabel(\"Disclosed Fundings (Million $)\")\n",
    "ax.set_xlabel(\"Number of Investors\")"
   ]
  },
  {
   "cell_type": "code",
   "execution_count": null,
   "metadata": {},
   "outputs": [],
   "source": [
    "# Let's check what are the different columns that has been added so far\n",
    "df_raw.columns"
   ]
  },
  {
   "cell_type": "markdown",
   "metadata": {},
   "source": [
    "#### So far we have added following new features\n",
    "- aliases\n",
    "- age\n",
    "- city\n",
    "- state\n",
    "- country\n",
    "- round_of_funding\n",
    "- total_disclosed_funding\n",
    "- number_of_investors"
   ]
  },
  {
   "cell_type": "markdown",
   "metadata": {},
   "source": [
    "# 3.6 Categories"
   ]
  },
  {
   "cell_type": "code",
   "execution_count": null,
   "metadata": {},
   "outputs": [],
   "source": [
    "# Check for missing values\n",
    "df_raw[df_raw.categories.isnull()].shape[0]"
   ]
  },
  {
   "cell_type": "code",
   "execution_count": null,
   "metadata": {},
   "outputs": [],
   "source": [
    "# Replace the missing values with Unknown category\n",
    "df_raw.categories.fillna(\"Unknown Categories\", inplace=True)"
   ]
  },
  {
   "cell_type": "markdown",
   "metadata": {},
   "source": [
    "#### Categories are represented as comma separated values. Flatten those and represent as dummy variables"
   ]
  },
  {
   "cell_type": "code",
   "execution_count": null,
   "metadata": {},
   "outputs": [],
   "source": [
    "# Convert comma separated string into list object after stripping spaces in-between\n",
    "temp_series = df_raw.categories.apply(lambda x : [name.strip() for name in x.split(\",\")])\n",
    "# Merge the categories as dummies to the original dataframe\n",
    "df_raw = pd.concat([df_raw, pd.get_dummies(temp_series.apply(pd.Series).stack()).sum(level=0)], axis=1)"
   ]
  },
  {
   "cell_type": "code",
   "execution_count": null,
   "metadata": {},
   "outputs": [],
   "source": [
    "# Take a look of extra columns\n",
    "df_raw.head(3)"
   ]
  },
  {
   "cell_type": "code",
   "execution_count": null,
   "metadata": {},
   "outputs": [],
   "source": [
    "# Generate the list of categories\n",
    "list_of_categories = temp_series.apply(pd.Series).stack().unique().tolist()"
   ]
  },
  {
   "cell_type": "code",
   "execution_count": null,
   "metadata": {},
   "outputs": [],
   "source": [
    "# How many categories are there?\n",
    "print(\"There are {} new features representing categories\".format(len(list_of_categories)))"
   ]
  },
  {
   "cell_type": "code",
   "execution_count": null,
   "metadata": {},
   "outputs": [],
   "source": [
    "# Check the most popular categories based on the number of startups\n",
    "df_raw[list_of_categories].sum().sort_values(ascending=False)[0:10]"
   ]
  },
  {
   "cell_type": "code",
   "execution_count": null,
   "metadata": {},
   "outputs": [],
   "source": [
    "pop_categories = df_raw[list_of_categories].sum().sort_values(ascending=False)[0:10]\n",
    "ax = pop_categories.sort_values().plot.barh(figsize=(10, 6))\n",
    "ax.set_title(\"Top 10 categories based on Number of Startups\")\n",
    "ax.set_xlabel(\"Number of Startups\")\n",
    "ax.set_ylabel(\"Name of the category\")"
   ]
  },
  {
   "cell_type": "code",
   "execution_count": null,
   "metadata": {},
   "outputs": [],
   "source": [
    "# Save the top 10 categories. It will be used in future\n",
    "top_10_categories = pop_categories.index.tolist()"
   ]
  },
  {
   "cell_type": "markdown",
   "metadata": {},
   "source": [
    "### Build a relation between total disclosed amount and categories"
   ]
  },
  {
   "cell_type": "code",
   "execution_count": null,
   "metadata": {},
   "outputs": [],
   "source": [
    "df_categories_funding = df_raw[['name', 'total_disclosed_funding', 'categories']]"
   ]
  },
  {
   "cell_type": "code",
   "execution_count": null,
   "metadata": {},
   "outputs": [],
   "source": [
    "df_categories_funding.head(3)"
   ]
  },
  {
   "cell_type": "code",
   "execution_count": null,
   "metadata": {},
   "outputs": [],
   "source": [
    "temp_series = df_categories_funding.categories.apply(lambda x : [name.strip() for name in x.split(\",\")])\n",
    "pd.get_dummies(temp_series.apply(pd.Series).stack()).sum(level=0)\n",
    "# Create a dataframe with investor name and different sectors as dummy variables\n",
    "df_categories_funding_dummy = pd.concat([df_categories_funding, pd.get_dummies(temp_series.apply(pd.Series).stack()).sum(level=0)], axis=1)"
   ]
  },
  {
   "cell_type": "code",
   "execution_count": null,
   "metadata": {},
   "outputs": [],
   "source": [
    "df_categories_funding_dummy.head(3)"
   ]
  },
  {
   "cell_type": "code",
   "execution_count": null,
   "metadata": {},
   "outputs": [],
   "source": [
    "def get_investment_by_category(df, category_name):\n",
    "    '''\n",
    "    Given with a category name, return total amount of investment made across startups over time\n",
    "    '''\n",
    "    return df[df[category_name] > 0]['total_disclosed_funding'].sum()"
   ]
  },
  {
   "cell_type": "markdown",
   "metadata": {},
   "source": [
    "#### Get the total investment over years across categories/sectors"
   ]
  },
  {
   "cell_type": "code",
   "execution_count": null,
   "metadata": {},
   "outputs": [],
   "source": [
    "print(\"Investment for Analytics : {}\".format(get_investment_by_category(df_categories_funding_dummy, 'Analytics')))\n",
    "print(\"Investment for E-Commerce : {}\".format(get_investment_by_category(df_categories_funding_dummy, 'E-Commerce')))\n",
    "print(\"Investment for Mobile : {}\".format(get_investment_by_category(df_categories_funding_dummy, 'Mobile')))"
   ]
  },
  {
   "cell_type": "code",
   "execution_count": null,
   "metadata": {},
   "outputs": [],
   "source": [
    "# Get the total investment over years across categories/sectors\n",
    "dict_cat_by_investment = {}\n",
    "for cat_name in top_10_categories:\n",
    "    dict_cat_by_investment[cat_name] = get_investment_by_category(df_categories_funding_dummy, cat_name)\n",
    "dict_cat_by_investment.keys()\n",
    "\n",
    "df_cat_by_investment = pd.DataFrame()\n",
    "df_cat_by_investment['category'] = dict_cat_by_investment.keys()\n",
    "df_cat_by_investment['Disclosed_Funding'] = dict_cat_by_investment.values()\n",
    "ax = df_cat_by_investment.sort_values('Disclosed_Funding').plot.barh('category', 'Disclosed_Funding', figsize=(10, 6), legend=False)\n",
    "ax.set_title(\"Investments across Top 10 categories\")\n",
    "ax.set_ylabel(\"Categories\")\n",
    "ax.set_xlabel(\"Investment (Million $) \")"
   ]
  },
  {
   "cell_type": "code",
   "execution_count": null,
   "metadata": {},
   "outputs": [],
   "source": [
    "top_10_categories = df_raw[list_of_categories].sum().sort_values(ascending=False)[0:11].index.tolist()"
   ]
  },
  {
   "cell_type": "markdown",
   "metadata": {},
   "source": [
    "#### Let me explore funding data further"
   ]
  },
  {
   "cell_type": "code",
   "execution_count": null,
   "metadata": {},
   "outputs": [],
   "source": [
    "# Create a dataframe from the funding lists only\n",
    "funding_df = df_raw.set_index('categories')['funding_data'].apply(pd.Series).stack().reset_index()\n",
    "funding_df.drop(labels='level_1', axis=1, inplace=True)\n",
    "funding_df.columns = ['categories', 'funding_data']"
   ]
  },
  {
   "cell_type": "code",
   "execution_count": null,
   "metadata": {},
   "outputs": [],
   "source": [
    "# Take a look\n",
    "funding_df.head(3)"
   ]
  },
  {
   "cell_type": "code",
   "execution_count": null,
   "metadata": {},
   "outputs": [],
   "source": [
    "# Different utility methods to extract funding information\n",
    "\n",
    "def extact_date(funding_data):\n",
    "    '''\n",
    "    Extract date of investment\n",
    "    '''\n",
    "    if len(funding_data) > 0:\n",
    "        return funding_data[0]\n",
    "\n",
    "def extact_funding_amount(funding_data):\n",
    "    '''\n",
    "    Extract investment amount\n",
    "    '''\n",
    "    if len(funding_data) > 0:\n",
    "        funding_string = funding_data[1].split(\"/\")[0].strip()\n",
    "        return value_of_currency(funding_string)\n",
    "    \n",
    "def extact_funding_round(funding_data):\n",
    "    '''\n",
    "    Extract round of investments\n",
    "    '''\n",
    "    if len(funding_data) > 0:\n",
    "        return funding_data[1].split(\"/\")[1].strip()\n",
    "\n",
    "def extract_number_of_investors(funding_data):\n",
    "    '''\n",
    "    Extract number of investors\n",
    "    '''\n",
    "    if len(funding_data) > 0:\n",
    "        return funding_data[4]\n",
    "    \n",
    "def extact_lead_investor(funding_data):\n",
    "    '''\n",
    "    Who is the lead investor?\n",
    "    '''\n",
    "    if len(funding_data) > 0:\n",
    "        return funding_data[3]"
   ]
  },
  {
   "cell_type": "code",
   "execution_count": null,
   "metadata": {},
   "outputs": [],
   "source": [
    "# Create new features : date of funding, fudning amount, funding round, no of investors, lead investor\n",
    "funding_df['date'] = funding_df['funding_data'].apply(extact_date)\n",
    "funding_df['funding_amount'] = funding_df['funding_data'].apply(extact_funding_amount)\n",
    "funding_df['funding_round'] = funding_df['funding_data'].apply(extact_funding_round)\n",
    "funding_df['no_of_investors'] = funding_df['funding_data'].apply(extract_number_of_investors)\n",
    "funding_df['lead_investor'] = funding_df['funding_data'].apply(extact_lead_investor)"
   ]
  },
  {
   "cell_type": "code",
   "execution_count": null,
   "metadata": {},
   "outputs": [],
   "source": [
    "# Take a look\n",
    "funding_df.head()"
   ]
  },
  {
   "cell_type": "code",
   "execution_count": null,
   "metadata": {},
   "outputs": [],
   "source": [
    "# Convert date column to datetime format and then sort the dataframe based on date\n",
    "funding_df.date = pd.to_datetime(funding_df.date)\n",
    "funding_df.sort_values('date', inplace=True)"
   ]
  },
  {
   "cell_type": "code",
   "execution_count": null,
   "metadata": {},
   "outputs": [],
   "source": [
    "# Multiple fundings have been made on the same month/year?\n",
    "funding_df[funding_df.duplicated('date')].shape[0]"
   ]
  },
  {
   "cell_type": "markdown",
   "metadata": {},
   "source": [
    "#### Let me plot a time series with the amount invested by the investors in the market"
   ]
  },
  {
   "cell_type": "code",
   "execution_count": null,
   "metadata": {},
   "outputs": [],
   "source": [
    "# Time Series plot for funding amount(in K)\n",
    "ax = funding_df[['funding_amount', 'date']].groupby(funding_df['date'].dt.year).agg('sum').plot.bar(figsize=(10, 6), legend=False)\n",
    "ax.set_title(\"Investment into the startup market by Year\")\n",
    "ax.set_xlabel(\"Year\")\n",
    "ax.set_ylabel(\"Funding Amount (Million $)\")"
   ]
  },
  {
   "cell_type": "markdown",
   "metadata": {},
   "source": [
    "- Observation\n",
    "    - There was a sudden spike in investment during 2011 (May be once market came out of 2008-09 financial crisis)\n",
    "    - 2012 onwards amount invested in the market increased consistenly till 2015\n",
    "    - After that investment is dropping over 2016 and 2017"
   ]
  },
  {
   "cell_type": "code",
   "execution_count": null,
   "metadata": {},
   "outputs": [],
   "source": [
    "# Histogram of amount funded in a single round\n",
    "ax = funding_df['funding_amount'].hist(figsize=(10, 6), bins=50)\n",
    "ax.set_title(\"Histogram of amount Invested in a single round\")\n",
    "ax.set_xlabel(\"Amount Invested in a single round (Million $)\")\n",
    "ax.set_ylabel(\"Count\")"
   ]
  },
  {
   "cell_type": "code",
   "execution_count": null,
   "metadata": {},
   "outputs": [],
   "source": [
    "ax = funding_df['funding_amount'].plot.box(vert=False, figsize=(10, 4))\n",
    "ax.set_title(\"Boxplot for amount Invested in a single round\")\n",
    "ax.set_xlabel(\"Amount Invested in a single round (Million $)\")"
   ]
  },
  {
   "cell_type": "code",
   "execution_count": null,
   "metadata": {},
   "outputs": [],
   "source": [
    "# TODO : Write some conclusion\n",
    "funding_df['funding_amount'].describe()"
   ]
  },
  {
   "cell_type": "markdown",
   "metadata": {},
   "source": [
    "- Observation\n",
    "    - How much money is getting invested in a single round of funding.\n",
    "    - This data is confusing as it included grants as well as normal investment rounds"
   ]
  },
  {
   "cell_type": "code",
   "execution_count": null,
   "metadata": {
    "scrolled": false
   },
   "outputs": [],
   "source": [
    "# Check how much money has been funded in which round of funding?\n",
    "ax = funding_df[['funding_amount', 'funding_round']].groupby('funding_round').sum().sort_values('funding_amount', ascending=True).plot.barh(figsize=(10, 6), legend=False)\n",
    "ax.set_title(\"Investment over Funding Phases\")\n",
    "ax.set_xlabel(\"Funding Round\")\n",
    "ax.set_ylabel(\"Investment Amount (Millions $)\")"
   ]
  },
  {
   "cell_type": "markdown",
   "metadata": {},
   "source": [
    "- Observation\n",
    "    - Series B, C, D, A are the rounds when most of the money is pumped into the market"
   ]
  },
  {
   "cell_type": "code",
   "execution_count": null,
   "metadata": {},
   "outputs": [],
   "source": [
    "# Top investment companies who acted as Lead Invetsors\n",
    "funding_df[~funding_df.lead_investor.str.contains(\"—\")][['lead_investor', 'funding_amount']].groupby(['lead_investor']).sum().sort_values(by='funding_amount', ascending=False)[0:10]"
   ]
  },
  {
   "cell_type": "markdown",
   "metadata": {},
   "source": [
    "- Observation\n",
    "    - This data is not complete as well. For lot of startups lead investor information is missing\n",
    "    - I have not taken care of parsing investor names like this : Foxconn Technology GroupTencent Holdings"
   ]
  },
  {
   "cell_type": "markdown",
   "metadata": {},
   "source": [
    "#### Let's check the time series for funding on  startups from different sectors (Is E-Commerce or Analytics trending?)"
   ]
  },
  {
   "cell_type": "code",
   "execution_count": null,
   "metadata": {},
   "outputs": [],
   "source": [
    "# Flatten the categories information as dummies\n",
    "temp_series = funding_df.categories.apply(lambda x : [name.strip() for name in x.split(\",\")])\n",
    "pd.get_dummies(temp_series.apply(pd.Series).stack()).sum(level=0)\n",
    "funding_df_categories_dummy = pd.concat([funding_df, pd.get_dummies(temp_series.apply(pd.Series).stack()).sum(level=0)], axis=1)"
   ]
  },
  {
   "cell_type": "code",
   "execution_count": null,
   "metadata": {},
   "outputs": [],
   "source": [
    "# Time series for E-Commerce startups\n",
    "ax = funding_df_categories_dummy[funding_df_categories_dummy['E-Commerce'] > 0][['funding_amount', 'date']].groupby(funding_df['date'].dt.year).agg('sum').plot.bar(figsize=(10, 6), legend=False)\n",
    "ax.set_title(\"Investment into E-Commerce Startups over Year\")\n",
    "ax.set_xlabel(\"Year\")\n",
    "ax.set_ylabel(\"Funding Amount (Million $)\")"
   ]
  },
  {
   "cell_type": "code",
   "execution_count": null,
   "metadata": {},
   "outputs": [],
   "source": [
    "# Time series for Analytics startups\n",
    "ax = funding_df_categories_dummy[funding_df_categories_dummy['Analytics'] > 0][['funding_amount', 'date']].groupby(funding_df['date'].dt.year).agg('sum').plot.bar(figsize=(10, 6), legend=False)\n",
    "ax.set_title(\"Investment into Analytics Startups over Year\")\n",
    "ax.set_xlabel(\"Year\")\n",
    "ax.set_ylabel(\"Funding Amount (Million $)\")"
   ]
  },
  {
   "cell_type": "markdown",
   "metadata": {
    "collapsed": true
   },
   "source": [
    "### I am going to focus on investor information now\n",
    "\n",
    "- Understand the main investors in a particular sectors. For example, top 10 investors in the E-Commerce sector?"
   ]
  },
  {
   "cell_type": "markdown",
   "metadata": {},
   "source": [
    "#### From df_raw get the categories and investor_data and then flatten those using dummy encoding"
   ]
  },
  {
   "cell_type": "code",
   "execution_count": null,
   "metadata": {},
   "outputs": [],
   "source": [
    "investor_df = df_raw.set_index('categories')['investor_data'].apply(pd.Series).stack().reset_index()\n",
    "investor_df.drop(labels='level_1', axis=1, inplace=True)\n",
    "investor_df.columns = ['categories', 'investor_data']"
   ]
  },
  {
   "cell_type": "code",
   "execution_count": null,
   "metadata": {},
   "outputs": [],
   "source": [
    "investor_df.head(2)"
   ]
  },
  {
   "cell_type": "code",
   "execution_count": null,
   "metadata": {},
   "outputs": [],
   "source": [
    "# Utility method to extract investor information\n",
    "def extract_investor_name(investor_data):\n",
    "    return investor_data[0].strip()\n",
    "\n",
    "def extarct_series_info(investor_data):\n",
    "    series_list = investor_data[1::2]\n",
    "    return [elem.replace(\"(Lead)\", \"\").strip() for elem in series_list]"
   ]
  },
  {
   "cell_type": "code",
   "execution_count": null,
   "metadata": {},
   "outputs": [],
   "source": [
    "investor_df['investor_name'] = investor_df.investor_data.apply(extract_investor_name)\n",
    "investor_df['series_invested'] = investor_df.investor_data.apply(extarct_series_info)"
   ]
  },
  {
   "cell_type": "code",
   "execution_count": null,
   "metadata": {},
   "outputs": [],
   "source": [
    "investor_df.head()"
   ]
  },
  {
   "cell_type": "markdown",
   "metadata": {},
   "source": [
    "#### How many unique investors?"
   ]
  },
  {
   "cell_type": "code",
   "execution_count": null,
   "metadata": {},
   "outputs": [],
   "source": [
    "print(\"Number of unique of investors : {}\".format(len(investor_df.investor_name.unique())))"
   ]
  },
  {
   "cell_type": "markdown",
   "metadata": {},
   "source": [
    "##### Here I am creating a dataframe with investor_name as a column. Other columna are categories or investment rounds (dummy encoded)"
   ]
  },
  {
   "cell_type": "code",
   "execution_count": null,
   "metadata": {},
   "outputs": [],
   "source": [
    "temp_series = investor_df.categories.apply(lambda x : [name.strip() for name in x.split(\",\")])\n",
    "# Create a dataframe with investor name and different sectors as dummy variables\n",
    "investor_to_sector_dummy = pd.concat([investor_df['investor_name'], pd.get_dummies(temp_series.apply(pd.Series).stack()).sum(level=0)], axis=1)\n",
    "# Create a DataFrame with investor_name and funding type as the features (Dummy Variable)\n",
    "df_investor_to_series_dummy = pd.concat([investor_df['investor_name'], investor_df.series_invested.str.join('|').str.get_dummies()], axis=1)\n",
    "# Now merge df_investor_to_series_dummy and investor_to_sector_dummy\n",
    "investor_to_series_sector_dummies = pd.merge(df_investor_to_series_dummy, investor_to_sector_dummy, left_index=True, right_index=True,  suffixes=('', '_y')) \n",
    "investor_to_series_sector_dummies = investor_to_series_sector_dummies.drop(labels=['investor_name_y'], axis=1)"
   ]
  },
  {
   "cell_type": "code",
   "execution_count": null,
   "metadata": {},
   "outputs": [],
   "source": [
    "investor_to_sector_dummy.head(1)"
   ]
  },
  {
   "cell_type": "code",
   "execution_count": null,
   "metadata": {},
   "outputs": [],
   "source": [
    "investor_to_series_sector_dummies.head(1)"
   ]
  },
  {
   "cell_type": "code",
   "execution_count": null,
   "metadata": {},
   "outputs": [],
   "source": [
    "def get_top_investor_by_sector_series(dummies_df, category_name, series_name):\n",
    "    '''\n",
    "    Get the name of the investors sorted based on category and series of funding\n",
    "    '''\n",
    "    if (category_name is None) & (series_name is None):\n",
    "        raise ValueError(\"Either Category or Series should have a valid value\")\n",
    "        \n",
    "    if series_name is None:\n",
    "        df_filtered_dummies = dummies_df[(dummies_df[category_name] > 0)] \n",
    "    elif category_name is None:\n",
    "        df_filtered_dummies = dummies_df[(dummies_df[series_name] > 0)] \n",
    "    else:\n",
    "        df_filtered_dummies = dummies_df[(dummies_df[series_name] > 0) & (dummies_df[category_name] > 0)]\n",
    "        \n",
    "    df_filtered_sum = df_filtered_dummies.groupby(['investor_name']).sum()\n",
    "    \n",
    "    if series_name is None:\n",
    "        return df_filtered_sum[category_name].sort_values(ascending=False)\n",
    "    else:\n",
    "        return df_filtered_sum[series_name].sort_values(ascending=False)"
   ]
  },
  {
   "cell_type": "markdown",
   "metadata": {},
   "source": [
    "#### I am going to use the utility function above to answer questions below."
   ]
  },
  {
   "cell_type": "markdown",
   "metadata": {},
   "source": [
    "### Get All the investors who invested in E-Commerce during Series-A"
   ]
  },
  {
   "cell_type": "code",
   "execution_count": null,
   "metadata": {},
   "outputs": [],
   "source": [
    "# Get All the investors who invested in E-Commerce during Series-A\n",
    "get_top_investor_by_sector_series(investor_to_series_sector_dummies, 'E-Commerce', series_name='Series A')[0:10]"
   ]
  },
  {
   "cell_type": "markdown",
   "metadata": {},
   "source": [
    "### Get All the investors who invested in E-Commerce"
   ]
  },
  {
   "cell_type": "code",
   "execution_count": null,
   "metadata": {},
   "outputs": [],
   "source": [
    "# Get All the investors who invested in E-Commerce\n",
    "get_top_investor_by_sector_series(investor_to_series_sector_dummies, 'E-Commerce', series_name=None)[0:10]"
   ]
  },
  {
   "cell_type": "markdown",
   "metadata": {},
   "source": [
    "### Get All the investors who invested in Seed"
   ]
  },
  {
   "cell_type": "code",
   "execution_count": null,
   "metadata": {},
   "outputs": [],
   "source": [
    "# Get All the investors who invested in Seed\n",
    "get_top_investor_by_sector_series(investor_to_series_sector_dummies, category_name=None, series_name='Seed')[0:10]"
   ]
  },
  {
   "cell_type": "markdown",
   "metadata": {},
   "source": [
    "### Get All the investors who invested in Series A"
   ]
  },
  {
   "cell_type": "code",
   "execution_count": null,
   "metadata": {},
   "outputs": [],
   "source": [
    "# Get All the investors who invested in Series A\n",
    "get_top_investor_by_sector_series(investor_to_series_sector_dummies, category_name=None, series_name='Series A')[0:10]"
   ]
  },
  {
   "cell_type": "markdown",
   "metadata": {
    "collapsed": true
   },
   "source": [
    "# 4. Let's check the outliers"
   ]
  },
  {
   "cell_type": "markdown",
   "metadata": {},
   "source": [
    "#### Let's check the funding received by startups in India. I want to observe the outliers"
   ]
  },
  {
   "cell_type": "code",
   "execution_count": null,
   "metadata": {},
   "outputs": [],
   "source": [
    "df_raw.head(2)"
   ]
  },
  {
   "cell_type": "code",
   "execution_count": null,
   "metadata": {},
   "outputs": [],
   "source": [
    "#### Check the total_disclosed_funding amount for India based startups. This will help in understanding the outliers"
   ]
  },
  {
   "cell_type": "code",
   "execution_count": null,
   "metadata": {},
   "outputs": [],
   "source": [
    "df_raw[(df_raw.country == 'India')]['total_disclosed_funding'].plot.box(vert=False, figsize=(10, 4))"
   ]
  },
  {
   "cell_type": "markdown",
   "metadata": {},
   "source": [
    "#### The startups with disclosed funding more than 50 million may be considered as outliers. Let's inspect those closely."
   ]
  },
  {
   "cell_type": "code",
   "execution_count": null,
   "metadata": {},
   "outputs": [],
   "source": [
    "# Let's check the startups which have received funding over 100 million\n",
    "df_india_100_plus = df_raw[(df_raw.country == 'India') & (df_raw.total_disclosed_funding > 50)]"
   ]
  },
  {
   "cell_type": "code",
   "execution_count": null,
   "metadata": {},
   "outputs": [],
   "source": [
    "# Show the top 20 startups based on total_disclosed_funding\n",
    "df_india_100_plus[['name', 'age', 'categories', 'round_of_funding', 'total_disclosed_funding', 'city']].sort_values(by='total_disclosed_funding', ascending=False)[0:20]"
   ]
  },
  {
   "cell_type": "markdown",
   "metadata": {},
   "source": [
    "- Most of these are well known names\n",
    "- We are going to check the funding, age "
   ]
  },
  {
   "cell_type": "code",
   "execution_count": null,
   "metadata": {},
   "outputs": [],
   "source": [
    "# Check the funding distribution\n",
    "ax = df_india_100_plus.total_disclosed_funding.hist(bins=20, figsize=(10, 6))\n",
    "ax.set_title(\"Investment distribution of 50M+ Startups\")\n",
    "ax.set_xlabel('Investment (Millions $)')\n",
    "ax.set_ylabel('Number of Startups')"
   ]
  },
  {
   "cell_type": "code",
   "execution_count": null,
   "metadata": {},
   "outputs": [],
   "source": [
    "ax = df_india_100_plus.total_disclosed_funding.plot.box(vert=False, figsize=(10, 4))\n",
    "ax.set_title(\"Investment distribution of 50M+ Startups\")\n",
    "ax.set_xlabel('Investment (Millions $)')"
   ]
  },
  {
   "cell_type": "code",
   "execution_count": null,
   "metadata": {},
   "outputs": [],
   "source": [
    "# Check the age distribution of these outliers\n",
    "ax = df_india_100_plus.age.plot.box(vert=False, figsize=(10, 4), legend=False)\n",
    "ax.set_title(\"Age distribution of 50M+ Startups\")\n",
    "ax.set_xlabel('Age (Years)')"
   ]
  },
  {
   "cell_type": "code",
   "execution_count": null,
   "metadata": {},
   "outputs": [],
   "source": [
    "df_india_100_plus.age.describe()"
   ]
  },
  {
   "cell_type": "code",
   "execution_count": null,
   "metadata": {},
   "outputs": [],
   "source": [
    "ax = df_india_100_plus.plot.scatter('age', 'total_disclosed_funding', figsize=(10, 6), legend=False, alpha=0.4)\n",
    "ax.set_title(\"Investment vs Age for 50M+ Startups\")\n",
    "ax.set_xlabel('Age (Years)')\n",
    "ax.set_ylabel('Investment (Million $)')"
   ]
  },
  {
   "cell_type": "markdown",
   "metadata": {
    "collapsed": true
   },
   "source": [
    "- Observation\n",
    "    - It takes time to become an outlier. Typical age of 50M+ startup is 8 years. It varies between 2 to 13.\n",
    "    - There is no linear relationship between age and investment amount"
   ]
  },
  {
   "cell_type": "markdown",
   "metadata": {
    "collapsed": true
   },
   "source": [
    "#### What are the popular categories among these startups?"
   ]
  },
  {
   "cell_type": "code",
   "execution_count": null,
   "metadata": {},
   "outputs": [],
   "source": [
    "top_cat_100_plus = df_india_100_plus[list_of_categories].sum().sort_values(ascending=False)[0:10]\n",
    "ax = top_cat_100_plus.sort_values().plot.barh(figsize=(10, 6))\n",
    "ax.set_title(\"Top Categories for 50M+ Startups\")\n",
    "ax.set_xlabel('Number of Startups')\n",
    "ax.set_ylabel('Categories')"
   ]
  },
  {
   "cell_type": "code",
   "execution_count": null,
   "metadata": {},
   "outputs": [],
   "source": [
    "ax = df_india_100_plus.city.value_counts(ascending=True).plot.barh(figsize=(10, 6))\n",
    "ax.set_title(\"Location of 50M+ Startups\")\n",
    "ax.set_xlabel('Number of Startups')\n",
    "ax.set_ylabel('City (India)')"
   ]
  },
  {
   "cell_type": "code",
   "execution_count": null,
   "metadata": {},
   "outputs": [],
   "source": [
    "# Explore the startups which are 15 years old\n"
   ]
  }
 ],
 "metadata": {
  "kernelspec": {
   "display_name": "Python 3",
   "language": "python",
   "name": "python3"
  },
  "language_info": {
   "codemirror_mode": {
    "name": "ipython",
    "version": 3
   },
   "file_extension": ".py",
   "mimetype": "text/x-python",
   "name": "python",
   "nbconvert_exporter": "python",
   "pygments_lexer": "ipython3",
   "version": "3.6.3"
  }
 },
 "nbformat": 4,
 "nbformat_minor": 2
}
